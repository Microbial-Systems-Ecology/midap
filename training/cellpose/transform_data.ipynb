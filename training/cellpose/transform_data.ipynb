{
 "cells": [
  {
   "cell_type": "code",
   "execution_count": null,
   "id": "1334d876",
   "metadata": {},
   "outputs": [],
   "source": [
    "from pathlib import Path\n",
    "\n",
    "import matplotlib.pyplot as plt\n",
    "\n",
    "from skimage import io\n",
    "from skimage.measure import label\n",
    "\n",
    "from shutil import copy\n",
    "import numpy as np"
   ]
  },
  {
   "cell_type": "code",
   "execution_count": null,
   "id": "2b87d610",
   "metadata": {},
   "outputs": [],
   "source": [
    "# get the images\n",
    "base_path = Path(\"../../midap/training/midap_training/\")\n",
    "\n",
    "fluor_train_images_raw = sorted(base_path.glob(\"**/[!PH]*/*/*raw.tif\"))\n",
    "fluor_train_images_seg = sorted(base_path.glob(\"**/[!PH]*/*/*seg.tif\"))\n",
    "ph_train_images_raw = sorted(base_path.glob(\"**/PH/*/*raw.tif\"))\n",
    "ph_train_images_seg = sorted(base_path.glob(\"**/PH/*/*seg.tif\"))"
   ]
  },
  {
   "cell_type": "code",
   "execution_count": null,
   "id": "6844a808",
   "metadata": {},
   "outputs": [],
   "source": [
    "def scale_pixel_vals(img: np.ndarray):\n",
    "    \"\"\"\n",
    "    Scales the values of the pixels of an image such that they are between 0 and 1\n",
    "    :param img: The input image as array\n",
    "    :returns: The images with pixels scales between 0 and 1\n",
    "    \"\"\"\n",
    "\n",
    "    img = np.array(img)\n",
    "    return ((img - img.min()) / (img.max() - img.min()))"
   ]
  },
  {
   "cell_type": "code",
   "execution_count": null,
   "id": "a34d3159",
   "metadata": {
    "scrolled": false
   },
   "outputs": [],
   "source": [
    "# define the new base and save all images there\n",
    "new_base = Path(\"./fine_tune_data/\")\n",
    "\n",
    "for name, raw_imgs, seg_imgs in [(\"fluor\", fluor_train_images_raw, fluor_train_images_seg),\n",
    "                                 (\"PH\", ph_train_images_raw, ph_train_images_seg)]:\n",
    "    print(f\"Starting with {name}\")\n",
    "    current_dir = new_base.joinpath(name)\n",
    "    current_dir.mkdir(exist_ok=True, parents=True)\n",
    "    for raw, seg in zip(raw_imgs, seg_imgs):\n",
    "        # raw images\n",
    "        raw_name = raw.name.replace(\"_raw\", \"\")\n",
    "        new_raw = current_dir.joinpath(raw_name)\n",
    "        raw_img = scale_pixel_vals(io.imread(raw))\n",
    "        io.imsave(new_raw, raw_img)\n",
    "\n",
    "        # segmentations\n",
    "        seg_im = io.imread(seg)\n",
    "        label_im = label(seg_im)\n",
    "\n",
    "        # plot the segs for sanity check\n",
    "        plt.figure()\n",
    "        plt.title(f\"Number of cells: {label_im.max()}\")\n",
    "        plt.imshow(label_im)\n",
    "        plt.show()\n",
    "\n",
    "        new_seg = current_dir.joinpath(seg.name)\n",
    "        io.imsave(new_seg, label_im.astype(np.uint16))"
   ]
  }
 ],
 "metadata": {
  "kernelspec": {
   "display_name": "Python 3 (ipykernel)",
   "language": "python",
   "name": "python3"
  },
  "language_info": {
   "codemirror_mode": {
    "name": "ipython",
    "version": 3
   },
   "file_extension": ".py",
   "mimetype": "text/x-python",
   "name": "python",
   "nbconvert_exporter": "python",
   "pygments_lexer": "ipython3",
   "version": "3.9.12"
  }
 },
 "nbformat": 4,
 "nbformat_minor": 5
}
