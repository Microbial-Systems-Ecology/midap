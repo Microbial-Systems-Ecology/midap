{
 "cells": [
  {
   "cell_type": "markdown",
   "id": "5b43ef27-7737-4f46-b979-b34ccae4ec59",
   "metadata": {},
   "source": [
    "### **Important**: Always run all cells as a first step!"
   ]
  },
  {
   "cell_type": "code",
   "execution_count": 5,
   "id": "f284ac6a-dbe4-465f-bc46-362e94f2a4ed",
   "metadata": {
    "tags": []
   },
   "outputs": [],
   "source": [
    "from src.import_modules import button_show_files, button_show_images, button_start_training"
   ]
  },
  {
   "cell_type": "markdown",
   "id": "c2590f96-a588-4aab-a8a6-43e6627d65d7",
   "metadata": {},
   "source": [
    "# Train model"
   ]
  },
  {
   "cell_type": "markdown",
   "id": "1d12a766-f154-4118-8e24-cc541423acf7",
   "metadata": {},
   "source": [
    "## 1. Upload data"
   ]
  },
  {
   "cell_type": "markdown",
   "id": "1aba46df-2513-4517-bf68-0ede6d108427",
   "metadata": {},
   "source": [
    "Train data can be uploaded using the upload button on the left side (see image below). Please make sure to upload your train data into the folder `/data`.<br />\n",
    "\n",
    "Train data consists of pairs of raw and segmented images (see image below). The image pairs should have the following naming conventions: `FILE_NAME_raw.tif` and `FILE_NAME_seg.tif`."
   ]
  },
  {
   "cell_type": "markdown",
   "id": "1397ec39-e128-439a-91a5-451cc8f5cda2",
   "metadata": {},
   "source": [
    "## 2. Check data"
   ]
  },
  {
   "cell_type": "code",
   "execution_count": 6,
   "id": "9c7ba362-2fc2-43ba-8472-e4b3fae5e648",
   "metadata": {},
   "outputs": [
    {
     "data": {
      "application/vnd.jupyter.widget-view+json": {
       "model_id": "aee914430f2a4d6b878d4630928f174e",
       "version_major": 2,
       "version_minor": 0
      },
      "text/plain": [
       "Dropdown(options=('.gitignore', 'run_training.sh', 'train_model.ipynb', 'overview.ipynb', 'download_weights.ip…"
      ]
     },
     "metadata": {},
     "output_type": "display_data"
    }
   ],
   "source": [
    "dropdown_files = button_show_files()\n",
    "dropdown_files"
   ]
  },
  {
   "cell_type": "code",
   "execution_count": 7,
   "id": "94fd8c91-7782-443b-a1d1-86fad2299d5b",
   "metadata": {},
   "outputs": [
    {
     "data": {
      "application/vnd.jupyter.widget-view+json": {
       "model_id": "8bd79797c82d423290282c7774cc4d69",
       "version_major": 2,
       "version_minor": 0
      },
      "text/plain": [
       "Button(description='Show images', style=ButtonStyle())"
      ]
     },
     "metadata": {},
     "output_type": "display_data"
    },
    {
     "data": {
      "application/vnd.jupyter.widget-view+json": {
       "model_id": "569a1822f430439ab4ace2f0fd5933d3",
       "version_major": 2,
       "version_minor": 0
      },
      "text/plain": [
       "Output()"
      ]
     },
     "metadata": {},
     "output_type": "display_data"
    }
   ],
   "source": [
    "button_show_images(dropdown_files)"
   ]
  },
  {
   "cell_type": "markdown",
   "id": "eedb33e3-80ca-4a16-8fdf-951ddf4ad6b1",
   "metadata": {},
   "source": [
    "## 3. Start training"
   ]
  },
  {
   "cell_type": "code",
   "execution_count": 8,
   "id": "05ae4e61-ece2-489d-b633-5e014c478186",
   "metadata": {},
   "outputs": [
    {
     "data": {
      "application/vnd.jupyter.widget-view+json": {
       "model_id": "d4573ca3c69547808ae02168573fd2d8",
       "version_major": 2,
       "version_minor": 0
      },
      "text/plain": [
       "Button(description='Start training', style=ButtonStyle())"
      ]
     },
     "metadata": {},
     "output_type": "display_data"
    }
   ],
   "source": [
    "button_start_training()"
   ]
  },
  {
   "cell_type": "code",
   "execution_count": null,
   "id": "8385ff52-1c2d-49f4-80a2-ad45f86ca254",
   "metadata": {},
   "outputs": [],
   "source": []
  }
 ],
 "metadata": {
  "kernelspec": {
   "display_name": "Python 3 (ipykernel)",
   "language": "python",
   "name": "python3"
  },
  "language_info": {
   "codemirror_mode": {
    "name": "ipython",
    "version": 3
   },
   "file_extension": ".py",
   "mimetype": "text/x-python",
   "name": "python",
   "nbconvert_exporter": "python",
   "pygments_lexer": "ipython3",
   "version": "3.10.4"
  },
  "widgets": {
   "application/vnd.jupyter.widget-state+json": {
    "state": {
     "15d9688de5c34012b72f7aa0d62a722b": {
      "model_module": "@jupyter-widgets/base",
      "model_module_version": "1.2.0",
      "model_name": "LayoutModel",
      "state": {}
     },
     "1e2a1e92ae704bae929200115cc5622d": {
      "model_module": "@jupyter-widgets/base",
      "model_module_version": "1.2.0",
      "model_name": "LayoutModel",
      "state": {}
     },
     "265c2bba623c4d2d8cb3bf355784dd82": {
      "model_module": "@jupyter-widgets/controls",
      "model_module_version": "1.5.0",
      "model_name": "DescriptionStyleModel",
      "state": {
       "description_width": ""
      }
     },
     "471f78b3f86542e7984af5dc42924798": {
      "model_module": "@jupyter-widgets/base",
      "model_module_version": "1.2.0",
      "model_name": "LayoutModel",
      "state": {}
     },
     "4c3f7929fae44c44bef53ba787ea513c": {
      "model_module": "@jupyter-widgets/base",
      "model_module_version": "1.2.0",
      "model_name": "LayoutModel",
      "state": {}
     },
     "514a3ec9783e4ae398dfbd22d48fcd16": {
      "model_module": "@jupyter-widgets/base",
      "model_module_version": "1.2.0",
      "model_name": "LayoutModel",
      "state": {}
     },
     "569a1822f430439ab4ace2f0fd5933d3": {
      "model_module": "@jupyter-widgets/output",
      "model_module_version": "1.0.0",
      "model_name": "OutputModel",
      "state": {
       "layout": "IPY_MODEL_8509c45aa5244bf7882706dd88f7fb73"
      }
     },
     "593a854e64164f20bc727919b0776940": {
      "model_module": "@jupyter-widgets/controls",
      "model_module_version": "1.5.0",
      "model_name": "ButtonStyleModel",
      "state": {}
     },
     "5e9282bfe9c7468b881ae1fea61ee304": {
      "model_module": "@jupyter-widgets/controls",
      "model_module_version": "1.5.0",
      "model_name": "DropdownModel",
      "state": {
       "_options_labels": [
        ".gitignore",
        "run_training.sh",
        "train_model.ipynb",
        "overview.ipynb",
        "download_weights.ipynb",
        ".ipynb_checkpoints",
        "data",
        "src",
        "my_weights",
        ".virtual_documents",
        "__pycache__"
       ],
       "index": 0,
       "layout": "IPY_MODEL_a79791d31a55481e97bbb01b4eb093b4",
       "style": "IPY_MODEL_265c2bba623c4d2d8cb3bf355784dd82"
      }
     },
     "6fafe332be374679b09ae87eb3e4ffa0": {
      "model_module": "@jupyter-widgets/base",
      "model_module_version": "1.2.0",
      "model_name": "LayoutModel",
      "state": {}
     },
     "8509c45aa5244bf7882706dd88f7fb73": {
      "model_module": "@jupyter-widgets/base",
      "model_module_version": "1.2.0",
      "model_name": "LayoutModel",
      "state": {}
     },
     "8bd79797c82d423290282c7774cc4d69": {
      "model_module": "@jupyter-widgets/controls",
      "model_module_version": "1.5.0",
      "model_name": "ButtonModel",
      "state": {
       "description": "Show images",
       "layout": "IPY_MODEL_6fafe332be374679b09ae87eb3e4ffa0",
       "style": "IPY_MODEL_593a854e64164f20bc727919b0776940"
      }
     },
     "a79791d31a55481e97bbb01b4eb093b4": {
      "model_module": "@jupyter-widgets/base",
      "model_module_version": "1.2.0",
      "model_name": "LayoutModel",
      "state": {}
     },
     "aee914430f2a4d6b878d4630928f174e": {
      "model_module": "@jupyter-widgets/controls",
      "model_module_version": "1.5.0",
      "model_name": "DropdownModel",
      "state": {
       "_options_labels": [
        ".gitignore",
        "run_training.sh",
        "train_model.ipynb",
        "overview.ipynb",
        "download_weights.ipynb",
        ".ipynb_checkpoints",
        "data",
        "src",
        "my_weights",
        ".virtual_documents",
        "__pycache__"
       ],
       "index": 0,
       "layout": "IPY_MODEL_1e2a1e92ae704bae929200115cc5622d",
       "style": "IPY_MODEL_e6eb21bbfb754fe5936d4ebad7dbd85a"
      }
     },
     "b7429dc1a0c84d8d9d75caa76447b17a": {
      "model_module": "@jupyter-widgets/controls",
      "model_module_version": "1.5.0",
      "model_name": "ButtonStyleModel",
      "state": {}
     },
     "bcd7ba82287842b2b1bccdae1c068beb": {
      "model_module": "@jupyter-widgets/output",
      "model_module_version": "1.0.0",
      "model_name": "OutputModel",
      "state": {
       "layout": "IPY_MODEL_4c3f7929fae44c44bef53ba787ea513c"
      }
     },
     "be10fc4daf2b4c53857056e7069e2c6b": {
      "model_module": "@jupyter-widgets/controls",
      "model_module_version": "1.5.0",
      "model_name": "ButtonStyleModel",
      "state": {}
     },
     "be1324a0bd3746058eec15989d44a637": {
      "model_module": "@jupyter-widgets/controls",
      "model_module_version": "1.5.0",
      "model_name": "ButtonModel",
      "state": {
       "description": "Start training",
       "layout": "IPY_MODEL_15d9688de5c34012b72f7aa0d62a722b",
       "style": "IPY_MODEL_d0e98fd059f843099b7e539a61693593"
      }
     },
     "d0e98fd059f843099b7e539a61693593": {
      "model_module": "@jupyter-widgets/controls",
      "model_module_version": "1.5.0",
      "model_name": "ButtonStyleModel",
      "state": {}
     },
     "d4573ca3c69547808ae02168573fd2d8": {
      "model_module": "@jupyter-widgets/controls",
      "model_module_version": "1.5.0",
      "model_name": "ButtonModel",
      "state": {
       "description": "Start training",
       "layout": "IPY_MODEL_514a3ec9783e4ae398dfbd22d48fcd16",
       "style": "IPY_MODEL_b7429dc1a0c84d8d9d75caa76447b17a"
      }
     },
     "e6eb21bbfb754fe5936d4ebad7dbd85a": {
      "model_module": "@jupyter-widgets/controls",
      "model_module_version": "1.5.0",
      "model_name": "DescriptionStyleModel",
      "state": {
       "description_width": ""
      }
     },
     "f32d4db768b94f079a729b6ea1ac6a45": {
      "model_module": "@jupyter-widgets/controls",
      "model_module_version": "1.5.0",
      "model_name": "ButtonModel",
      "state": {
       "description": "Show images",
       "layout": "IPY_MODEL_471f78b3f86542e7984af5dc42924798",
       "style": "IPY_MODEL_be10fc4daf2b4c53857056e7069e2c6b"
      }
     }
    },
    "version_major": 2,
    "version_minor": 0
   }
  }
 },
 "nbformat": 4,
 "nbformat_minor": 5
}
