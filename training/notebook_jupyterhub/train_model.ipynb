{
 "cells": [
  {
   "cell_type": "code",
   "execution_count": 1,
   "id": "f284ac6a-dbe4-465f-bc46-362e94f2a4ed",
   "metadata": {},
   "outputs": [],
   "source": [
    "import ipywidgets as widgets\n",
    "import os\n",
    "from glob import glob\n",
    "import numpy as np\n",
    "import matplotlib.pyplot as plt\n",
    "\n",
    "from skimage import io\n",
    "from skimage.segmentation import mark_boundaries\n",
    "from skimage.measure import label\n",
    "\n",
    "import subprocess"
   ]
  },
  {
   "cell_type": "markdown",
   "id": "c2590f96-a588-4aab-a8a6-43e6627d65d7",
   "metadata": {},
   "source": [
    "# Train model"
   ]
  },
  {
   "cell_type": "markdown",
   "id": "1d12a766-f154-4118-8e24-cc541423acf7",
   "metadata": {},
   "source": [
    "## 1. Upload data"
   ]
  },
  {
   "cell_type": "markdown",
   "id": "1aba46df-2513-4517-bf68-0ede6d108427",
   "metadata": {},
   "source": [
    "Train data can be uploaded using the upload button on the left side (see image below). Please make sure to upload your train data into the folder `/data`.<br />\n",
    "\n",
    "Train data consists of pairs of raw and segmented images (see image below). The image pairs should have the following naming conventions: `FILE_NAME_raw.tif` and `FILE_NAME_seg.tif`."
   ]
  },
  {
   "cell_type": "markdown",
   "id": "1397ec39-e128-439a-91a5-451cc8f5cda2",
   "metadata": {},
   "source": [
    "## 2. Check data"
   ]
  },
  {
   "cell_type": "code",
   "execution_count": 2,
   "id": "9c7ba362-2fc2-43ba-8472-e4b3fae5e648",
   "metadata": {},
   "outputs": [
    {
     "data": {
      "application/vnd.jupyter.widget-view+json": {
       "model_id": "58f506a3da914af9ae0f1f0de74fc1c1",
       "version_major": 2,
       "version_minor": 0
      },
      "text/plain": [
       "Dropdown(options=('test_models.ipynb', 'run_training.sh', '.gitignore', 'training.ipynb', 'data', 'traindata_v…"
      ]
     },
     "metadata": {},
     "output_type": "display_data"
    }
   ],
   "source": [
    "dropdown_files = widgets.Dropdown(options=os.listdir())\n",
    "\n",
    "dropdown_files"
   ]
  },
  {
   "cell_type": "code",
   "execution_count": 3,
   "id": "94fd8c91-7782-443b-a1d1-86fad2299d5b",
   "metadata": {},
   "outputs": [
    {
     "data": {
      "application/vnd.jupyter.widget-view+json": {
       "model_id": "9e9cc69178884310861ed626d0c417a3",
       "version_major": 2,
       "version_minor": 0
      },
      "text/plain": [
       "Button(description='Show images', style=ButtonStyle())"
      ]
     },
     "metadata": {},
     "output_type": "display_data"
    },
    {
     "data": {
      "application/vnd.jupyter.widget-view+json": {
       "model_id": "849611b8d4ae4712adb1e54437348e8d",
       "version_major": 2,
       "version_minor": 0
      },
      "text/plain": [
       "Output()"
      ]
     },
     "metadata": {},
     "output_type": "display_data"
    }
   ],
   "source": [
    "button = widgets.Button(description=\"Show images\")\n",
    "output = widgets.Output()\n",
    "\n",
    "display(button, output)\n",
    "\n",
    "def on_button_clicked(b):\n",
    "    raw_images = glob(dropdown_files.value+'/*raw.tif')\n",
    "    seg_images = [r.replace('raw', 'seg') for r in raw_images]\n",
    "    with output:\n",
    "        num_subp = int(np.ceil(np.sqrt(len(raw_images))))\n",
    "        plt.figure(figsize=(10,15))\n",
    "        i_fig = 1\n",
    "        for r, s in zip(raw_images, seg_images):\n",
    "            #plt.subplot(num_subp,num_subp,i_fig)\n",
    "            plt.figure();\n",
    "            img = io.imread(r);\n",
    "            seg = io.imread(s);\n",
    "            io.imshow(mark_boundaries(img, label(seg)));\n",
    "            plt.title(r);\n",
    "            i_fig+=1\n",
    "        plt.show()\n",
    "\n",
    "\n",
    "button.on_click(on_button_clicked)"
   ]
  },
  {
   "cell_type": "markdown",
   "id": "eedb33e3-80ca-4a16-8fdf-951ddf4ad6b1",
   "metadata": {},
   "source": [
    "## 3. Start training"
   ]
  },
  {
   "cell_type": "code",
   "execution_count": 4,
   "id": "542003ed-e713-46c9-983c-09bb85128b0f",
   "metadata": {},
   "outputs": [
    {
     "data": {
      "application/vnd.jupyter.widget-view+json": {
       "model_id": "f5e0cb9f71b449d2ba6d27e1b2fe47fb",
       "version_major": 2,
       "version_minor": 0
      },
      "text/plain": [
       "Button(description='Start training', style=ButtonStyle())"
      ]
     },
     "metadata": {},
     "output_type": "display_data"
    }
   ],
   "source": [
    "button_train = widgets.Button(description=\"Start training\")\n",
    "display(button_train)\n",
    "\n",
    "def on_button_clicked(b):\n",
    "    rc = subprocess.call(\"./run_training.sh\", shell=True)\n",
    "\n",
    "\n",
    "button_train.on_click(on_button_clicked)"
   ]
  },
  {
   "cell_type": "code",
   "execution_count": null,
   "id": "6638ef43-a46a-43e5-a95f-b4e45b232888",
   "metadata": {},
   "outputs": [],
   "source": []
  }
 ],
 "metadata": {
  "kernelspec": {
   "display_name": "Python 3 (ipykernel)",
   "language": "python",
   "name": "python3"
  },
  "language_info": {
   "codemirror_mode": {
    "name": "ipython",
    "version": 3
   },
   "file_extension": ".py",
   "mimetype": "text/x-python",
   "name": "python",
   "nbconvert_exporter": "python",
   "pygments_lexer": "ipython3",
   "version": "3.10.4"
  }
 },
 "nbformat": 4,
 "nbformat_minor": 5
}
