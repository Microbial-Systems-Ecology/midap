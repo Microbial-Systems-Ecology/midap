{
 "cells": [
  {
   "cell_type": "markdown",
   "id": "c30dfa03-85d8-4e9e-aee3-24dfd0d19e2a",
   "metadata": {},
   "source": [
    "# Download model weights"
   ]
  },
  {
   "cell_type": "markdown",
   "id": "32aa8391-f580-4603-b638-d6e863d9b82e",
   "metadata": {},
   "source": [
    "## 1. Download"
   ]
  },
  {
   "cell_type": "markdown",
   "id": "a2a3d3be-cf90-408e-9263-f7dff8718ae1",
   "metadata": {},
   "source": [
    "## 2. Use model weights with midap"
   ]
  },
  {
   "cell_type": "markdown",
   "id": "e5dc9f06-1225-4ad4-aa6b-253a39931db0",
   "metadata": {},
   "source": [
    "## 3. Use model weights in DeepImageJ"
   ]
  },
  {
   "cell_type": "code",
   "execution_count": null,
   "id": "04a8dd61-160f-4c10-a437-9092b4604104",
   "metadata": {},
   "outputs": [],
   "source": []
  }
 ],
 "metadata": {
  "kernelspec": {
   "display_name": "Python 3 (ipykernel)",
   "language": "python",
   "name": "python3"
  },
  "language_info": {
   "codemirror_mode": {
    "name": "ipython",
    "version": 3
   },
   "file_extension": ".py",
   "mimetype": "text/x-python",
   "name": "python",
   "nbconvert_exporter": "python",
   "pygments_lexer": "ipython3",
   "version": "3.10.4"
  }
 },
 "nbformat": 4,
 "nbformat_minor": 5
}
