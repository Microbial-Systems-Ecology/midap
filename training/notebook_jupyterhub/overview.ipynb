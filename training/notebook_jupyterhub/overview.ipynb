{
 "cells": [
  {
   "cell_type": "markdown",
   "id": "8db8f91f-5fe9-45fe-8dec-51469fb198bb",
   "metadata": {},
   "source": [
    "# U-Net training"
   ]
  },
  {
   "cell_type": "markdown",
   "id": "7b2cf90e-e389-4ff5-ae4e-2092a292b3e7",
   "metadata": {},
   "source": [
    "The U-Net is the state-of-the-art neural network for image segmentation and is widely usded in the life sciences."
   ]
  },
  {
   "cell_type": "markdown",
   "id": "3e96944d-4ef3-47a8-8375-03dec472f8d7",
   "metadata": {},
   "source": [
    "Here, two notebooks are provided, which allow and explain:\n",
    "- the training of a U-Net on your own data and \n",
    "- the download and usage of your own trained network"
   ]
  },
  {
   "cell_type": "markdown",
   "id": "51e23ba4-be7b-4bb9-b455-9e56da00ffba",
   "metadata": {},
   "source": [
    "### 1. Requirements"
   ]
  },
  {
   "cell_type": "markdown",
   "id": "e6b7c28b-9ab7-4496-ada7-4ca7c6307ae7",
   "metadata": {},
   "source": [
    "### 2. Train a U-Net on your data"
   ]
  },
  {
   "cell_type": "markdown",
   "id": "16883249-a989-400a-8df9-f6d4ac833a87",
   "metadata": {},
   "source": [
    "The notebook to train a U-Net can be found here: [notebook](./train_model.ipynb)"
   ]
  },
  {
   "cell_type": "markdown",
   "id": "68a2bdd1-564b-45a3-8d66-64da0960bbae",
   "metadata": {},
   "source": [
    "### 3. Download weights"
   ]
  },
  {
   "cell_type": "markdown",
   "id": "fdd5e414-884e-4526-86d0-6ffd76a0408f",
   "metadata": {},
   "source": [
    "Once the U-Net training is finished, you can download the model weights to use them with the MIDAP pipeline. More information can be found here: [notebook](./download_weights.ipynb)"
   ]
  },
  {
   "cell_type": "code",
   "execution_count": null,
   "id": "d2d71dc3-334f-477c-bc97-005070100026",
   "metadata": {},
   "outputs": [],
   "source": []
  }
 ],
 "metadata": {
  "kernelspec": {
   "display_name": "Python 3 (ipykernel)",
   "language": "python",
   "name": "python3"
  },
  "language_info": {
   "codemirror_mode": {
    "name": "ipython",
    "version": 3
   },
   "file_extension": ".py",
   "mimetype": "text/x-python",
   "name": "python",
   "nbconvert_exporter": "python",
   "pygments_lexer": "ipython3",
   "version": "3.10.4"
  }
 },
 "nbformat": 4,
 "nbformat_minor": 5
}
