{
 "cells": [
  {
   "cell_type": "code",
   "execution_count": null,
   "id": "19d29aed",
   "metadata": {},
   "outputs": [],
   "source": [
    "%matplotlib inline\n",
    "import matplotlib\n",
    "backend = matplotlib.get_backend()\n",
    "import matplotlib.pyplot as plt\n",
    "\n",
    "from pathlib import Path\n",
    "from skimage import io\n",
    "import numpy as np\n",
    "\n",
    "import importlib\n",
    "import os\n",
    "\n",
    "# This line will supress the TF output \n",
    "os.environ[\"TF_CPP_MIN_LOG_LEVEL\"] = \"3\"\n",
    "import tensorflow as tf\n",
    "\n",
    "# midap import and reset of backend to notebook\n",
    "from midap.data.tf_pipeline import TFPipeFamilyMachine\n",
    "matplotlib.use(backend)"
   ]
  },
  {
   "cell_type": "markdown",
   "id": "e8dcb0a6",
   "metadata": {},
   "source": [
    "## Model testing with MIDAP\n",
    "\n",
    "This notebook can be used to test models. It calculates the accuracy of the model for a test set and makes some plots. "
   ]
  },
  {
   "cell_type": "code",
   "execution_count": null,
   "id": "263a7ee0",
   "metadata": {},
   "outputs": [],
   "source": [
    "#########################\n",
    "# define the parameters #\n",
    "#########################\n",
    "\n",
    "\n",
    "# Choose a model to test\n",
    "custom_model = None # Use the standard UNet\n",
    "# custom_model = \"CustomUNet\" # Use a model defined in ../custom_model.py\n",
    "\n",
    "# The path were the weights should be restored from\n",
    "restore_path = \"../../model_weights/model_weights_family_mother_machine/model_weights_ecoli_phase.h5\"\n",
    "\n",
    "# The data for the testing\n",
    "image_size = (128, 128, 1)\n",
    "\n",
    "# You can provide a list of files or a glob(star) expression with the pathlib\n",
    "# E.g. this loads all images of all bacteria in the GFP channel\n",
    "eval_files = list(Path(\"../midap_training/\").glob(\"**/GFP/**/*raw.tif\"))"
   ]
  },
  {
   "cell_type": "code",
   "execution_count": null,
   "id": "831ceca0",
   "metadata": {
    "scrolled": false
   },
   "outputs": [],
   "source": [
    "# load the data \n",
    "###############\n",
    "\n",
    "tf_pipe = TFPipeFamilyMachine(eval_files, image_size=image_size)"
   ]
  },
  {
   "cell_type": "code",
   "execution_count": null,
   "id": "a2d81c76",
   "metadata": {},
   "outputs": [],
   "source": [
    "# Load the model\n",
    "################\n",
    "\n",
    "if custom_model is None:\n",
    "    # load the standard UNet\n",
    "    from midap.networks.unets import UNetv1 as ModelClass\n",
    "else:\n",
    "    # Load the class that was defined above\n",
    "    spec = importlib.util.spec_from_file_location(\"module\", \"../custom_model.py\")\n",
    "    module = importlib.util.module_from_spec(spec)\n",
    "    spec.loader.exec_module(module)\n",
    "    ModelClass = getattr(module, \"CustomUNet\")\n",
    "    \n",
    "# initialize the model\n",
    "model = ModelClass(input_size=image_size, dropout=0.5)\n",
    "\n",
    "# restore the weights\n",
    "model.load_weights(restore_path)"
   ]
  },
  {
   "cell_type": "code",
   "execution_count": null,
   "id": "4cc8dd43",
   "metadata": {},
   "outputs": [],
   "source": [
    "# Test the model\n",
    "evaluation = model.evaluate(x=tf_pipe.dset_test)"
   ]
  },
  {
   "cell_type": "code",
   "execution_count": null,
   "id": "405552ba",
   "metadata": {
    "scrolled": false
   },
   "outputs": [],
   "source": [
    "# plot overlays\n",
    "###############\n",
    "\n",
    "# slect the indices of the test set to plot\n",
    "indices_to_plot = [11, 24, 36, 113, 148]\n",
    "\n",
    "# get the daset as list\n",
    "numpy_dset = list(tf_pipe.dset_test.unbatch().as_numpy_iterator())\n",
    "\n",
    "for index in indices_to_plot:\n",
    "    # eval the model (it's index, tuple, i, w, l)\n",
    "    sample = numpy_dset[index][0][0][...,0]\n",
    "    w = numpy_dset[index][0][1][...,0]\n",
    "    l = numpy_dset[index][0][2][...,0]\n",
    "    pred = model.predict((sample[None,...,None], w[None,...,None], l[None,...,None]))[0,...,0]\n",
    "    \n",
    "    # create the plot\n",
    "    fig, axes = plt.subplots(1,2)\n",
    "    \n",
    "    # overlay with original image\n",
    "    axes[0].set_title(f\"Element #{index} image\")\n",
    "    axes[0].imshow(sample)\n",
    "    axes[0].contour(pred, [0.5], colors='r', linewidths=0.5)\n",
    "    axes[0].set_xticks([])\n",
    "    axes[0].set_yticks([])\n",
    "    \n",
    "    # overlay with label\n",
    "    axes[1].set_title(f\"Element #{index} label\")\n",
    "    axes[1].imshow(l)\n",
    "    axes[1].contour(pred, [0.5], colors='r', linewidths=0.5)\n",
    "    axes[1].set_xticks([])\n",
    "    axes[1].set_yticks([])\n",
    "    plt.show()"
   ]
  },
  {
   "cell_type": "markdown",
   "id": "0325aaa7",
   "metadata": {},
   "source": [
    "### Eval on raw image Data\n",
    "\n",
    "Here you can eval the network on any raw image data."
   ]
  },
  {
   "cell_type": "code",
   "execution_count": null,
   "id": "3ca546a8",
   "metadata": {},
   "outputs": [],
   "source": [
    "# define the file path you want to eval\n",
    "file_path = eval_files[1]"
   ]
  },
  {
   "cell_type": "code",
   "execution_count": null,
   "id": "5767db64",
   "metadata": {},
   "outputs": [],
   "source": [
    "# preprocessing\n",
    "img = TFPipe.scale_pixel_vals(io.imread(file_path, as_gray=True))\n",
    "row_shape, col_shape = img.shape\n",
    "\n",
    "# get the new shape\n",
    "div = 16\n",
    "new_shape = (int(np.ceil(img.shape[0] / div) * div),\n",
    "             int(np.ceil(img.shape[1] / div) * div))\n",
    "\n",
    "# get the padded image\n",
    "img_pad = np.pad(img, [[0, new_shape[0] - row_shape], [0, new_shape[1] - col_shape]], mode=\"reflect\")\n",
    "\n",
    "# add batch and channel dim\n",
    "img_pad = img_pad[None,...,None]"
   ]
  },
  {
   "cell_type": "code",
   "execution_count": null,
   "id": "76ca827d",
   "metadata": {},
   "outputs": [],
   "source": [
    "# reload the model with new config\n",
    "model = ModelClass(input_size=img_pad.shape[1:], dropout=0.5, inference=True)\n",
    "\n",
    "# restore the weights\n",
    "model.load_weights(restore_path)"
   ]
  },
  {
   "cell_type": "code",
   "execution_count": null,
   "id": "af5dcb65",
   "metadata": {},
   "outputs": [],
   "source": [
    "# eval \n",
    "pred = model.predict(img_pad)"
   ]
  },
  {
   "cell_type": "code",
   "execution_count": null,
   "id": "5f4f63cf",
   "metadata": {},
   "outputs": [],
   "source": [
    "# create the plot\n",
    "fig, axes = plt.subplots(1,1)\n",
    "\n",
    "# overlay with original image\n",
    "axes.set_title(f\"Eval on {file_path.name}\")\n",
    "axes.imshow(img_pad[0,...,0])\n",
    "axes.contour(pred[0,...,0], [0.5], colors='r', linewidths=0.5)\n",
    "axes.set_xticks([])\n",
    "axes.set_yticks([])"
   ]
  },
  {
   "cell_type": "code",
   "execution_count": null,
   "id": "1964ce9e",
   "metadata": {},
   "outputs": [],
   "source": []
  }
 ],
 "metadata": {
  "kernelspec": {
   "display_name": "midap",
   "language": "python",
   "name": "midap"
  },
  "language_info": {
   "codemirror_mode": {
    "name": "ipython",
    "version": 3
   },
   "file_extension": ".py",
   "mimetype": "text/x-python",
   "name": "python",
   "nbconvert_exporter": "python",
   "pygments_lexer": "ipython3",
   "version": "3.9.16"
  }
 },
 "nbformat": 4,
 "nbformat_minor": 5
}
