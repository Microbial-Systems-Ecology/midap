{
 "cells": [
  {
   "cell_type": "code",
   "execution_count": 1,
   "id": "19d29aed",
   "metadata": {},
   "outputs": [],
   "source": [
    "%matplotlib inline\n",
    "\n",
    "import matplotlib.pyplot as plt\n",
    "import numpy as np\n",
    "import importlib\n",
    "\n",
    "import os\n",
    "# This line will supress the TF output \n",
    "os.environ[\"TF_CPP_MIN_LOG_LEVEL\"] = \"3\"\n",
    "\n",
    "import tensorflow as tf"
   ]
  },
  {
   "cell_type": "markdown",
   "id": "e8dcb0a6",
   "metadata": {},
   "source": [
    "## Custom training with MIDAP\n",
    "\n",
    "This notebook can be used to train and finetune either standard models from the pipeline or custom models. This is essentially a step by step version of `train.py` in the parent directory of this notebook and you should use the script to actually train the model. All parameters set in the cell below can be set as commandline arguments in the training script. Run `python train.py --help` to get the full signature. \n",
    "\n",
    "\n",
    "**IMPORTANT:**\n",
    "\n",
    "We adapted some parameter such that the notebook runs fast for demonstration purposes. Running the notebook in the default state will not lead to properly trained models. If you want to properly train a model yourself you need to:\n",
    "\n",
    "1. Increase the number of epochs below (50 is recommened)\n",
    "2. Take the whole datasat for the trainig, i.e. either increase `n_take` below or set `n_take = Ellipsis` to take the full set"
   ]
  },
  {
   "cell_type": "code",
   "execution_count": 2,
   "id": "263a7ee0",
   "metadata": {},
   "outputs": [],
   "source": [
    "#########################\n",
    "# define the parameters #\n",
    "#########################\n",
    "\n",
    "# Required parameters\n",
    "#####################\n",
    "\n",
    "# where to save the results\n",
    "save_path = \"./my_models/model1\"\n",
    "# where to load the training data from\n",
    "train_data = \"../training_data/ZF270g/train/training_data_ZF270g_1.npz\"\n",
    "\n",
    "# Model choice\n",
    "##############\n",
    "\n",
    "# Choose a model to train\n",
    "custom_model = None # Use the standard UNet\n",
    "# custom_model = \"CustomUNet\" # Use a model defined in ../custom_model.py\n",
    "\n",
    "# Choose a restore path for fine tuning. The stored weights have to be compatible with\n",
    "# the chosen model. E.g. for a classic UNet (i.e. \"custom_model = None\" above) all \n",
    "# pretrained weights from the pipeline can be used, e.g.:\n",
    "# restore_path = \"../../model_weights/model_weights_family_mother_machine/model_weights_ZF270g.h5\"\n",
    "restore_path = None # Start from scratch (default)\n",
    "\n",
    "# Choices for the training\n",
    "##########################\n",
    "\n",
    "# batch size for the training\n",
    "batch_size = 2\n",
    "# Number of epochs\n",
    "epochs = 5 # (default 50)\n",
    "# save the full model, this should only be true for custom models that you want to add to the pipeline\n",
    "save_model = False\n",
    "# Tensorboard call back. You can provide a logdir to create a tenorboard log to see the performance of the training\n",
    "# you can view it inside a jupyter notebook or you can start a new process from the terminal via\n",
    "# python -m tensorboard.main --logdir <logdir>\n",
    "# Note that running it in a separate process is recommended and you should not run it on the cluster\n",
    "# It is good practice to set it to either None (no callback) or ./logs (create logs dir for the logs)\n",
    "tfboard_logdir = \"./logs\" # None"
   ]
  },
  {
   "cell_type": "code",
   "execution_count": 3,
   "id": "831ceca0",
   "metadata": {},
   "outputs": [],
   "source": [
    "# load the training data \n",
    "########################\n",
    "\n",
    "# To reduce the training time we only take the fist 5 samples\n",
    "n_take = 5\n",
    "\n",
    "data = np.load(train_data)\n",
    "X_train = data['X_train'][:n_take]\n",
    "y_train = data['y_train'][:n_take]\n",
    "weight_maps_train = data['weight_maps_train'][:n_take]\n",
    "ratio_cell_train = data['ratio_cell_train'][:n_take]\n",
    "X_val = data['X_val'][:n_take]\n",
    "y_val = data['y_val'][:n_take]\n",
    "weight_maps_val = data['weight_maps_val'][:n_take]\n",
    "ratio_cell_val = data['ratio_cell_val'][:n_take]"
   ]
  },
  {
   "cell_type": "code",
   "execution_count": 4,
   "id": "a2d81c76",
   "metadata": {},
   "outputs": [],
   "source": [
    "# Load the model\n",
    "################\n",
    "\n",
    "if custom_model is None:\n",
    "    # load the standard UNet\n",
    "    from midap.networks.unets import UNetv1 as ModelClass\n",
    "else:\n",
    "    # Load the class that was defined above\n",
    "    spec = importlib.util.spec_from_file_location(\"module\", \"../custom_model.py\")\n",
    "    module = importlib.util.module_from_spec(spec)\n",
    "    spec.loader.exec_module(module)\n",
    "    ModelClass = getattr(module, \"CustomUNet\")\n",
    "    \n",
    "# initialize the model\n",
    "model = ModelClass(input_size=X_train.shape[1:], dropout=0.5)"
   ]
  },
  {
   "cell_type": "code",
   "execution_count": 5,
   "id": "4cc8dd43",
   "metadata": {},
   "outputs": [],
   "source": [
    "# Restore the weights\n",
    "#####################\n",
    "\n",
    "if restore_path is not None:\n",
    "    model.load_weights(restore_path)"
   ]
  },
  {
   "cell_type": "code",
   "execution_count": 6,
   "id": "41a08b20",
   "metadata": {},
   "outputs": [],
   "source": [
    "# Callback for logging including TFBoard\n",
    "########################################\n",
    "\n",
    "callbacks = [tf.keras.callbacks.EarlyStopping(monitor='val_loss', patience=5)]\n",
    "if tfboard_logdir is not None:\n",
    "    callbacks.append(tf.keras.callbacks.TensorBoard(log_dir=tfboard_logdir))"
   ]
  },
  {
   "cell_type": "code",
   "execution_count": 7,
   "id": "632b205b",
   "metadata": {},
   "outputs": [
    {
     "name": "stdout",
     "output_type": "stream",
     "text": [
      "Epoch 1/5\n",
      "3/3 [==============================] - 16s 3s/step - loss: 0.6834 - accuracy: 0.8292 - val_loss: 0.6820 - val_accuracy: 0.9992\n",
      "Epoch 2/5\n",
      "3/3 [==============================] - 1s 499ms/step - loss: 0.6231 - accuracy: 0.9303 - val_loss: 0.6654 - val_accuracy: 0.9999\n",
      "Epoch 3/5\n",
      "3/3 [==============================] - 1s 498ms/step - loss: 0.6682 - accuracy: 0.9315 - val_loss: 0.6455 - val_accuracy: 0.9975\n",
      "Epoch 4/5\n",
      "3/3 [==============================] - 1s 498ms/step - loss: 0.5356 - accuracy: 0.9437 - val_loss: 0.6422 - val_accuracy: 0.9923\n",
      "Epoch 5/5\n",
      "3/3 [==============================] - 1s 498ms/step - loss: 0.5273 - accuracy: 0.9310 - val_loss: 0.4746 - val_accuracy: 1.0000\n"
     ]
    }
   ],
   "source": [
    "# Fit the model\n",
    "###############\n",
    "\n",
    "# Fit the model\n",
    "history= model.fit(x=[X_train,\n",
    "                   weight_maps_train,\n",
    "                   y_train],  # we need to provide this here for the custom loss\n",
    "                   y=y_train,  # here for the accuracy metric\n",
    "                   sample_weight=ratio_cell_train,\n",
    "                   epochs=epochs,\n",
    "                   validation_data=([X_val,\n",
    "                                     weight_maps_val,\n",
    "                                     y_val],\n",
    "                                     y_val),\n",
    "                   batch_size=batch_size,\n",
    "                   callbacks=callbacks,\n",
    "                   shuffle=True)"
   ]
  },
  {
   "cell_type": "code",
   "execution_count": 8,
   "id": "3688940d",
   "metadata": {},
   "outputs": [],
   "source": [
    "# Save the results\n",
    "##################\n",
    "\n",
    "if save_model:\n",
    "    model.save(save_path)\n",
    "else:\n",
    "    model.save_weights(save_path)"
   ]
  },
  {
   "cell_type": "markdown",
   "id": "ec7d6128",
   "metadata": {},
   "source": [
    "### Tensorboard callback\n",
    "\n",
    "If you set `tfboard_logdir = \"./logs\"` above, you can visualize the training and the model using Tensorboard. Note that it is recommended to start it in a different process via the terminal. However, it can be used inside the jupyter notebook.\n",
    "\n",
    "**IMPORTANT**\n",
    "\n",
    "1. If the jupyter notebook is running in an environment that does not contain a `tensorboard` executable or if jupyter was started from one environment and the kernel was changed, you might need to explicitely set the executable. The logic is shown in the cells below.\n",
    "2. If you set `tfboard_logdir = \"bla\"`, i.e. something else but `./logs`, change the `--logdir` argument of the magic function below"
   ]
  },
  {
   "cell_type": "code",
   "execution_count": 9,
   "id": "1424ab24",
   "metadata": {
    "scrolled": false
   },
   "outputs": [
    {
     "data": {
      "text/html": [
       "\n",
       "      <iframe id=\"tensorboard-frame-338a0b35ef98a8ce\" width=\"100%\" height=\"800\" frameborder=\"0\">\n",
       "      </iframe>\n",
       "      <script>\n",
       "        (function() {\n",
       "          const frame = document.getElementById(\"tensorboard-frame-338a0b35ef98a8ce\");\n",
       "          const url = new URL(\"/\", window.location);\n",
       "          const port = 6006;\n",
       "          if (port) {\n",
       "            url.port = port;\n",
       "          }\n",
       "          frame.src = url;\n",
       "        })();\n",
       "      </script>\n",
       "    "
      ],
      "text/plain": [
       "<IPython.core.display.HTML object>"
      ]
     },
     "metadata": {},
     "output_type": "display_data"
    }
   ],
   "source": [
    "# set the executable if necessary\n",
    "os.environ[\"TENSORBOARD_BINARY\"] = \"/home/janis/anaconda3/envs/midap/bin/tensorboard\"\n",
    "\n",
    "if tfboard_logdir is not None:\n",
    "    %load_ext tensorboard\n",
    "    # change logs to custom directory if chosen\n",
    "    %tensorboard --logdir logs"
   ]
  },
  {
   "cell_type": "code",
   "execution_count": null,
   "id": "6cef385d",
   "metadata": {},
   "outputs": [],
   "source": []
  }
 ],
 "metadata": {
  "kernelspec": {
   "display_name": "midap",
   "language": "python",
   "name": "midap"
  },
  "language_info": {
   "codemirror_mode": {
    "name": "ipython",
    "version": 3
   },
   "file_extension": ".py",
   "mimetype": "text/x-python",
   "name": "python",
   "nbconvert_exporter": "python",
   "pygments_lexer": "ipython3",
   "version": "3.8.5"
  }
 },
 "nbformat": 4,
 "nbformat_minor": 5
}
