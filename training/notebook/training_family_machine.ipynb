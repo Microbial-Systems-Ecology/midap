{
 "cells": [
  {
   "cell_type": "code",
   "execution_count": null,
   "id": "19d29aed",
   "metadata": {},
   "outputs": [],
   "source": [
    "%matplotlib inline\n",
    "import matplotlib\n",
    "backend = matplotlib.get_backend()\n",
    "import matplotlib.pyplot as plt\n",
    "\n",
    "import numpy as np\n",
    "import importlib\n",
    "\n",
    "from pathlib import Path\n",
    "\n",
    "import os\n",
    "# This line will supress the TF output \n",
    "os.environ[\"TF_CPP_MIN_LOG_LEVEL\"] = \"3\"\n",
    "\n",
    "import tensorflow as tf\n",
    "from midap.data.tf_pipeline import TFPipeFamilyMachine\n",
    "matplotlib.use(backend)"
   ]
  },
  {
   "cell_type": "markdown",
   "id": "e8dcb0a6",
   "metadata": {},
   "source": [
    "## Custom training with MIDAP\n",
    "\n",
    "This notebook can be used to train and finetune either standard models from the pipeline or custom models. This is essentially a step by step version of `train.py` in the parent directory of this notebook and you should use the script to actually train the model. All parameters set in the cell below can be set as commandline arguments in the training script. Run `python train.py --help` to get the full signature. \n",
    "\n",
    "\n",
    "**IMPORTANT:**\n",
    "\n",
    "We adapted some parameter such that the notebook runs fast for demonstration purposes. Running the notebook in the default state will not lead to properly trained models. If you want to properly train a model yourself you need to:\n",
    "\n",
    "1. Increase the number of epochs below (50 is recommened)\n",
    "2. Take the whole datasat for the trainig, i.e. increase `n_take`"
   ]
  },
  {
   "cell_type": "code",
   "execution_count": null,
   "id": "263a7ee0",
   "metadata": {},
   "outputs": [],
   "source": [
    "#########################\n",
    "# define the parameters #\n",
    "#########################\n",
    "\n",
    "# Required parameters\n",
    "#####################\n",
    "\n",
    "# where to save the results\n",
    "save_path = \"./my_models/model1\"\n",
    "# You can provide a list of files or a glob(star) expression with the pathlib\n",
    "# E.g. this loads all images of all bacteria in the PH channel\n",
    "eval_files = list(Path(\"../midap_training/\").glob(\"**/PH/**/*raw.tif\"))\n",
    "# the size of the cutouts for the training\n",
    "image_size = (128, 128, 1)\n",
    "\n",
    "# Model choice\n",
    "##############\n",
    "\n",
    "# Choose a model to train\n",
    "custom_model = None # Use the standard UNet\n",
    "# custom_model = \"CustomUNet\" # Use a model defined in ../custom_model.py\n",
    "\n",
    "# Choose a restore path for fine tuning. The stored weights have to be compatible with\n",
    "# the chosen model. E.g. for a classic UNet (i.e. \"custom_model = None\" above) all \n",
    "# pretrained weights from the pipeline can be used, e.g.:\n",
    "# restore_path = \"../../model_weights/model_weights_family_mother_machine/model_weights_ZF270g.h5\"\n",
    "restore_path = None # Start from scratch (default)\n",
    "\n",
    "# Choices for the training\n",
    "##########################\n",
    "\n",
    "# batch size for the training\n",
    "batch_size = 2\n",
    "# Number of epochs\n",
    "epochs = 5 # (default 50)\n",
    "# save the full model, this should only be true for custom models that you want to add to the pipeline\n",
    "save_model = False\n",
    "# Tensorboard call back. You can provide a logdir to create a tenorboard log to see the performance of the training\n",
    "# you can view it inside a jupyter notebook or you can start a new process from the terminal via\n",
    "# python -m tensorboard.main --logdir <logdir>\n",
    "# Note that running it in a separate process is recommended and you should not run it on the cluster\n",
    "# It is good practice to set it to either None (no callback) or ./logs (create logs dir for the logs)\n",
    "tfboard_logdir = \"./logs\" # None"
   ]
  },
  {
   "cell_type": "code",
   "execution_count": null,
   "id": "831ceca0",
   "metadata": {},
   "outputs": [],
   "source": [
    "# load the training data \n",
    "########################\n",
    "\n",
    "tf_pipe = TFPipeFamilyMachine(eval_files, image_size=image_size, batch_size=batch_size)"
   ]
  },
  {
   "cell_type": "code",
   "execution_count": null,
   "id": "a2d81c76",
   "metadata": {},
   "outputs": [],
   "source": [
    "# Load the model\n",
    "################\n",
    "\n",
    "if custom_model is None:\n",
    "    # load the standard UNet\n",
    "    from midap.networks.unets import UNetv1 as ModelClass\n",
    "else:\n",
    "    # Load the class that was defined above\n",
    "    spec = importlib.util.spec_from_file_location(\"module\", \"../custom_model.py\")\n",
    "    module = importlib.util.module_from_spec(spec)\n",
    "    spec.loader.exec_module(module)\n",
    "    ModelClass = getattr(module, \"CustomUNet\")\n",
    "    \n",
    "# initialize the model\n",
    "model = ModelClass(input_size=image_size, dropout=0.5)"
   ]
  },
  {
   "cell_type": "code",
   "execution_count": null,
   "id": "4cc8dd43",
   "metadata": {},
   "outputs": [],
   "source": [
    "# Restore the weights\n",
    "#####################\n",
    "\n",
    "if restore_path is not None:\n",
    "    model.load_weights(restore_path)"
   ]
  },
  {
   "cell_type": "code",
   "execution_count": null,
   "id": "41a08b20",
   "metadata": {},
   "outputs": [],
   "source": [
    "# Callback for logging including TFBoard\n",
    "########################################\n",
    "\n",
    "callbacks = [tf.keras.callbacks.EarlyStopping(monitor='val_loss', patience=5)]\n",
    "if tfboard_logdir is not None:\n",
    "    callbacks.append(tf.keras.callbacks.TensorBoard(log_dir=tfboard_logdir))"
   ]
  },
  {
   "cell_type": "code",
   "execution_count": null,
   "id": "632b205b",
   "metadata": {},
   "outputs": [],
   "source": [
    "# Fit the model\n",
    "###############\n",
    "\n",
    "# Fit the model\n",
    "n_take = 10\n",
    "history= model.fit(x=tf_pipe.dset_train.take(n_take),\n",
    "                   epochs=epochs,\n",
    "                   validation_data=tf_pipe.dset_val,\n",
    "                   callbacks=callbacks,\n",
    "                   shuffle=True)"
   ]
  },
  {
   "cell_type": "code",
   "execution_count": null,
   "id": "3688940d",
   "metadata": {},
   "outputs": [],
   "source": [
    "# Save the results\n",
    "##################\n",
    "\n",
    "if save_model:\n",
    "    model.save(save_path, save_format=\"h5\")\n",
    "else:\n",
    "    model.save_weights(save_path, save_format=\"h5\")"
   ]
  },
  {
   "cell_type": "markdown",
   "id": "ec7d6128",
   "metadata": {},
   "source": [
    "### Tensorboard callback\n",
    "\n",
    "If you set `tfboard_logdir = \"./logs\"` above, you can visualize the training and the model using Tensorboard. Note that it is recommended to start it in a different process via the terminal. However, it can be used inside the jupyter notebook.\n",
    "\n",
    "**IMPORTANT**\n",
    "\n",
    "1. If the jupyter notebook is running in an environment that does not contain a `tensorboard` executable or if jupyter was started from one environment and the kernel was changed, you might need to explicitely set the executable. The logic is shown in the cells below.\n",
    "2. If you set `tfboard_logdir = \"bla\"`, i.e. something else but `./logs`, change the `--logdir` argument of the magic function below"
   ]
  },
  {
   "cell_type": "code",
   "execution_count": null,
   "id": "1424ab24",
   "metadata": {
    "scrolled": false
   },
   "outputs": [],
   "source": [
    "# set the executable if necessary\n",
    "os.environ[\"TENSORBOARD_BINARY\"] = \"/home/janis/anaconda3/envs/midap/bin/tensorboard\"\n",
    "\n",
    "if tfboard_logdir is not None:\n",
    "    %load_ext tensorboard\n",
    "    # change logs to custom directory if chosen\n",
    "    %tensorboard --logdir logs"
   ]
  }
 ],
 "metadata": {
  "kernelspec": {
   "display_name": "midap",
   "language": "python",
   "name": "midap"
  },
  "language_info": {
   "codemirror_mode": {
    "name": "ipython",
    "version": 3
   },
   "file_extension": ".py",
   "mimetype": "text/x-python",
   "name": "python",
   "nbconvert_exporter": "python",
   "pygments_lexer": "ipython3",
   "version": "3.9.16"
  }
 },
 "nbformat": 4,
 "nbformat_minor": 5
}
