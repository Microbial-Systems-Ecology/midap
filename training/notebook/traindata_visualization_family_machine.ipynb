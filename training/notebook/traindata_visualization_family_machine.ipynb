{
 "cells": [
  {
   "cell_type": "code",
   "execution_count": null,
   "id": "5d2b7750",
   "metadata": {},
   "outputs": [],
   "source": [
    "%matplotlib inline\n",
    "import matplotlib\n",
    "backend = matplotlib.get_backend()\n",
    "import matplotlib.pyplot as plt\n",
    "\n",
    "from pathlib import Path\n",
    "import numpy as np\n",
    "\n",
    "import os\n",
    "# This line will supress the TF output \n",
    "os.environ[\"TF_CPP_MIN_LOG_LEVEL\"] = \"3\"\n",
    "import tensorflow as tf\n",
    "\n",
    "# midap import and reset of backend to notebook\n",
    "from midap.data.tf_pipeline import TFPipeFamilyMachine\n",
    "matplotlib.use(backend)"
   ]
  },
  {
   "cell_type": "code",
   "execution_count": null,
   "id": "4c3d272c",
   "metadata": {},
   "outputs": [],
   "source": [
    "# You can provide a list of files or a glob(star) expression with the pathlib\n",
    "# E.g. this loads all images of all bacteria in the PH channel\n",
    "eval_files = sorted(Path(\"../midap_training\").glob(\"**/PH/**/*raw.tif\"))\n",
    "\n",
    "# load the data (add more keyword arguments for customization)\n",
    "tf_pipe = TFPipeFamilyMachine(eval_files, np_random_seed=11)"
   ]
  },
  {
   "cell_type": "code",
   "execution_count": null,
   "id": "2284dafe",
   "metadata": {},
   "outputs": [],
   "source": [
    "# readout the data\n",
    "np_dset = list(tf_pipe.dset_test.unbatch().as_numpy_iterator())"
   ]
  },
  {
   "cell_type": "code",
   "execution_count": null,
   "id": "5d441c5a",
   "metadata": {},
   "outputs": [],
   "source": [
    "# visualize X_train and y_train\n",
    "n = 2\n",
    "\n",
    "fig, axes = plt.subplots(1,3)\n",
    "fig.set_size_inches((12,8))\n",
    "\n",
    "# get the sample\n",
    "x_test, w_test, y_test = np_dset[n][0]\n",
    "\n",
    "# Original image\n",
    "im0 = axes[0].imshow(x_test[...,0])\n",
    "axes[0].set_title(\"Original\")\n",
    "axes[0].set_xticks([])\n",
    "axes[0].set_yticks([])\n",
    "cbar = fig.colorbar(im0, ax=axes[0], shrink=0.3)\n",
    "\n",
    "\n",
    "# Segmentation\n",
    "im1 = axes[1].imshow(y_test[...,0])\n",
    "axes[1].set_title(\"Segmentation\")\n",
    "axes[1].set_xticks([])\n",
    "axes[1].set_yticks([])\n",
    "cbar = fig.colorbar(im1, ax=axes[1], shrink=0.3)\n",
    "\n",
    "im2 = axes[2].imshow(w_test[...,0])\n",
    "axes[2].set_title(\"Weights\")\n",
    "axes[2].set_xticks([])\n",
    "axes[2].set_yticks([])\n",
    "cbar = fig.colorbar(im2, ax=axes[2], shrink=0.3)"
   ]
  },
  {
   "cell_type": "code",
   "execution_count": null,
   "id": "178a0d7f",
   "metadata": {},
   "outputs": [],
   "source": []
  }
 ],
 "metadata": {
  "kernelspec": {
   "display_name": "midap",
   "language": "python",
   "name": "midap"
  },
  "language_info": {
   "codemirror_mode": {
    "name": "ipython",
    "version": 3
   },
   "file_extension": ".py",
   "mimetype": "text/x-python",
   "name": "python",
   "nbconvert_exporter": "python",
   "pygments_lexer": "ipython3",
   "version": "3.9.16"
  }
 },
 "nbformat": 4,
 "nbformat_minor": 5
}
