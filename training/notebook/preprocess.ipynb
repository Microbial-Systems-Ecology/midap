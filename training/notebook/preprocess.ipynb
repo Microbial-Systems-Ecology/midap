{
 "cells": [
  {
   "cell_type": "code",
   "execution_count": 1,
   "id": "05e9d130",
   "metadata": {},
   "outputs": [],
   "source": [
    "import numpy as np\n",
    "import os\n",
    "\n",
    "from midap.data import DataProcessor"
   ]
  },
  {
   "cell_type": "markdown",
   "id": "55e8802a",
   "metadata": {},
   "source": [
    "## Dataprocessing with MIDAP\n",
    "\n",
    "This notebook illustrates how to use the `midap` package to process you new data into a set for training, testing and validation. Here we will only go over the very basic usage. The actual pre-processing should be performed with the `preprocessing.py` script in the parent directory of this notebook. You can get the full signature of this script by running `python preprocessing.py --help`\n",
    "\n",
    "After pre-processing the data you can visualize it with the `traindata_visualization.ipynb` notebook."
   ]
  },
  {
   "cell_type": "code",
   "execution_count": 2,
   "id": "bad01422",
   "metadata": {},
   "outputs": [],
   "source": [
    "# Define the paramters\n",
    "######################\n",
    "\n",
    "# Set the type of the data, False = Family machine, True = mother machine\n",
    "mother_machine = False\n",
    "\n",
    "# Original image, the image that should be used for the training\n",
    "# In case of mother_machine = True, it should be a directory with images\n",
    "path_img = \"../training_data/ZF270g/orig_img/img/pos33-eGFP_dual-A10200_cut.png\"\n",
    "\n",
    "# The segmentation mask for the image(s) used as label for the training.\n",
    "# In case of mother_machine = True, it should be a directory with images\n",
    "path_mask = \"../training_data/ZF270g/orig_img/mask/pos33-eGFP_dual-A10200_seg_2.png\"\n",
    "\n",
    "# where to save the train and validation set\n",
    "path_train = \"./my_data/train.npz\"\n",
    "\n",
    "# where to save the test set\n",
    "path_test = \"./my_data/test.npz\""
   ]
  },
  {
   "cell_type": "code",
   "execution_count": 3,
   "id": "7797be66",
   "metadata": {},
   "outputs": [],
   "source": [
    "# Init the data processor\n",
    "proc = DataProcessor()"
   ]
  },
  {
   "cell_type": "code",
   "execution_count": 4,
   "id": "d9a462d6",
   "metadata": {},
   "outputs": [
    {
     "name": "stdout",
     "output_type": "stream",
     "text": [
      "22-11-16 20:26:11 preprocessing.py INF   Loading data... \n",
      "22-11-16 20:26:11 preprocessing.py INF   Generating weight map... \n",
      "22-11-16 20:26:11 preprocessing.py INF   Calculating pixel distances... \n"
     ]
    },
    {
     "name": "stderr",
     "output_type": "stream",
     "text": [
      "100%|██████████████████████████████████████████████████████████████████████████████████| 112/112 [02:08<00:00,  1.15s/it]"
     ]
    },
    {
     "name": "stdout",
     "output_type": "stream",
     "text": [
      "22-11-16 20:28:20 preprocessing.py INF   Calculating weights... \n"
     ]
    },
    {
     "name": "stderr",
     "output_type": "stream",
     "text": [
      "\n"
     ]
    },
    {
     "name": "stdout",
     "output_type": "stream",
     "text": [
      "22-11-16 20:28:21 preprocessing.py INF   Splitting into 4x4 grid... \n",
      "22-11-16 20:28:21 preprocessing.py INF   Splitting into train and test... \n",
      "22-11-16 20:28:21 preprocessing.py INF   Generating patches... \n",
      "22-11-16 20:28:21 preprocessing.py INF   Data augmentation... \n",
      "22-11-16 20:28:25 preprocessing.py INF   Generating label for cell coverage \n"
     ]
    }
   ],
   "source": [
    "# Create the save directories if necessary\n",
    "save_dir, _ = os.path.split(os.path.abspath(path_train))\n",
    "os.makedirs(save_dir, exist_ok=True)\n",
    "save_dir, _ = os.path.split(os.path.abspath(path_test))\n",
    "os.makedirs(save_dir, exist_ok=True)\n",
    "\n",
    "# run for the different cases\n",
    "if mother_machine:\n",
    "    X_train, y_train, X_val, y_val = proc.run_mother_machine(path_img, path_mask)\n",
    "    # Save generated training data\n",
    "    np.savez_compressed(args.path_train, X_train=X_train, y_train=y_train, X_val=X_val, y_val=y_val)\n",
    "else:\n",
    "    data = proc.run(path_img, path_mask)\n",
    "\n",
    "    # Save generated training data\n",
    "    np.savez_compressed(path_train, X_train=data[\"X_train\"], y_train=data[\"y_train\"],\n",
    "                        weight_maps_train=data[\"weight_maps_train\"], ratio_cell_train=data[\"ratio_cell_train\"],\n",
    "                        X_val=data[\"X_val\"], y_val=data[\"y_val\"], weight_maps_val=data[\"weight_maps_val\"],\n",
    "                        ratio_cell_val=data[\"ratio_cell_val\"])\n",
    "\n",
    "    # Save generated test data\n",
    "    np.savez_compressed(path_test, X_test=data[\"X_test\"], y_test=data[\"y_test\"],\n",
    "                        weight_maps_test=data[\"weight_maps_test\"], ratio_cell_test=data[\"ratio_cell_test\"])"
   ]
  }
 ],
 "metadata": {
  "kernelspec": {
   "display_name": "midap",
   "language": "python",
   "name": "midap"
  },
  "language_info": {
   "codemirror_mode": {
    "name": "ipython",
    "version": 3
   },
   "file_extension": ".py",
   "mimetype": "text/x-python",
   "name": "python",
   "nbconvert_exporter": "python",
   "pygments_lexer": "ipython3",
   "version": "3.8.5"
  }
 },
 "nbformat": 4,
 "nbformat_minor": 5
}
