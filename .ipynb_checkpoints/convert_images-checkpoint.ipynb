{
 "cells": [
  {
   "cell_type": "code",
   "execution_count": 1,
   "metadata": {},
   "outputs": [],
   "source": [
    "from __future__ import unicode_literals, print_function\n",
    "import os\n",
    "import collections\n",
    "import bioformats as bf\n",
    "import glob\n",
    "import javabridge as jb\n",
    "import numpy as np\n",
    "import tifffile as tf\n",
    "import tqdm\n",
    "import xml.dom.minidom\n",
    "import matplotlib.pyplot as plt\n",
    "import tifffile"
   ]
  },
  {
   "cell_type": "code",
   "execution_count": 2,
   "metadata": {},
   "outputs": [],
   "source": [
    "cur_dir = os.getcwd()\n",
    "vsi_dir = cur_dir + '/data/TimeLapse_20190517_15052019_L-algMono-0.1/'\n",
    "tiff_dir = cur_dir + '/data/TimeLapse_20190517_15052019_L-algMono-0.1_tiff/'"
   ]
  },
  {
   "cell_type": "code",
   "execution_count": 3,
   "metadata": {},
   "outputs": [
    {
     "name": "stdout",
     "output_type": "stream",
     "text": [
      "Directory  /cluster/work/sis/ri/oschmanf/ackermann-bacteria-segmentation/data/TimeLapse_20190517_15052019_L-algMono-0.1_tiff/  already exists\n"
     ]
    }
   ],
   "source": [
    "vsi_files = glob.glob(vsi_dir + '/*.vsi')\n",
    "\n",
    "if not os.path.exists(tiff_dir):\n",
    "    os.mkdir(tiff_dir)\n",
    "    print(\"Directory \" , tiff_dir ,  \" Created \")\n",
    "else:    \n",
    "    print(\"Directory \" , tiff_dir ,  \" already exists\")"
   ]
  },
  {
   "cell_type": "code",
   "execution_count": 4,
   "metadata": {},
   "outputs": [],
   "source": [
    "def svi_to_tiff(path):\n",
    "\n",
    "    with bf.ImageReader(path) as reader:\n",
    "        # Shape of the data\n",
    "        c_total = reader.rdr.getSizeC()\n",
    "        z_total = reader.rdr.getSizeZ()\n",
    "        t_total = reader.rdr.getSizeT()\n",
    "\n",
    "#         print(path)\n",
    "#         print(c_total)\n",
    "#         print(z_total)\n",
    "#         print(t_total)\n",
    "\n",
    "        # This is so we can manually set a description down below.\n",
    "        pbar_c = tqdm.tqdm(range(c_total))\n",
    "\n",
    "        for channel in pbar_c:\n",
    "            images = []\n",
    "            # Get the channel name, so we can name the file after this.\n",
    "            #channel_name = get_channel(metadata, channel)\n",
    "\n",
    "            # Update the channel progress bar description with the\n",
    "            # channel name.\n",
    "            #pbar_c.set_description(channel_name)\n",
    "\n",
    "            for time in tqdm.tqdm(range(t_total), \"T\"):\n",
    "                for z in tqdm.tqdm(range(z_total), \"Z\"):\n",
    "                    image = reader.read(c=channel,\n",
    "                                        z=z,\n",
    "                                        t=time,\n",
    "                                        rescale=False)\n",
    "                    images.append(image)\n",
    "            filename = os.path.splitext(os.path.basename(path))[0] + '.tiff'\n",
    "            tifffile.imsave(filename,np.array(images))\n",
    "\n"
   ]
  },
  {
   "cell_type": "code",
   "execution_count": 5,
   "metadata": {},
   "outputs": [
    {
     "name": "stderr",
     "output_type": "stream",
     "text": [
      "\r",
      "  0%|          | 0/48 [00:00<?, ?it/s]"
     ]
    },
    {
     "ename": "NameError",
     "evalue": "name 'file' is not defined",
     "output_type": "error",
     "traceback": [
      "\u001b[0;31m---------------------------------------------------------------------------\u001b[0m",
      "\u001b[0;31mNameError\u001b[0m                                 Traceback (most recent call last)",
      "\u001b[0;32m<ipython-input-5-d59db55df8c0>\u001b[0m in \u001b[0;36m<module>\u001b[0;34m\u001b[0m\n\u001b[1;32m      3\u001b[0m \u001b[0;34m\u001b[0m\u001b[0m\n\u001b[1;32m      4\u001b[0m \u001b[0;32mfor\u001b[0m \u001b[0mpath\u001b[0m \u001b[0;32min\u001b[0m \u001b[0mpbar_files\u001b[0m\u001b[0;34m:\u001b[0m\u001b[0;34m\u001b[0m\u001b[0m\n\u001b[0;32m----> 5\u001b[0;31m     \u001b[0msvi_to_tiff\u001b[0m\u001b[0;34m(\u001b[0m\u001b[0mpath\u001b[0m\u001b[0;34m)\u001b[0m\u001b[0;34m\u001b[0m\u001b[0m\n\u001b[0m\u001b[1;32m      6\u001b[0m \u001b[0mjb\u001b[0m\u001b[0;34m.\u001b[0m\u001b[0mkill_vm\u001b[0m\u001b[0;34m(\u001b[0m\u001b[0;34m)\u001b[0m\u001b[0;34m\u001b[0m\u001b[0m\n",
      "\u001b[0;32m<ipython-input-4-479ac288db28>\u001b[0m in \u001b[0;36msvi_to_tiff\u001b[0;34m(path)\u001b[0m\n\u001b[1;32m      1\u001b[0m \u001b[0;32mdef\u001b[0m \u001b[0msvi_to_tiff\u001b[0m\u001b[0;34m(\u001b[0m\u001b[0mpath\u001b[0m\u001b[0;34m)\u001b[0m\u001b[0;34m:\u001b[0m\u001b[0;34m\u001b[0m\u001b[0m\n\u001b[1;32m      2\u001b[0m \u001b[0;34m\u001b[0m\u001b[0m\n\u001b[0;32m----> 3\u001b[0;31m     \u001b[0mpbar_files\u001b[0m \u001b[0;34m=\u001b[0m \u001b[0mtqdm\u001b[0m\u001b[0;34m.\u001b[0m\u001b[0mtqdm\u001b[0m\u001b[0;34m(\u001b[0m\u001b[0mfile\u001b[0m\u001b[0;34m)\u001b[0m\u001b[0;34m\u001b[0m\u001b[0m\n\u001b[0m\u001b[1;32m      4\u001b[0m     \u001b[0;32mfor\u001b[0m \u001b[0mpath\u001b[0m \u001b[0;32min\u001b[0m \u001b[0mpbar_files\u001b[0m\u001b[0;34m:\u001b[0m\u001b[0;34m\u001b[0m\u001b[0m\n\u001b[1;32m      5\u001b[0m \u001b[0;34m\u001b[0m\u001b[0m\n",
      "\u001b[0;31mNameError\u001b[0m: name 'file' is not defined"
     ]
    }
   ],
   "source": [
    "jb.start_vm(class_path=bf.JARS, max_heap_size=\"2G\")\n",
    "pbar_files = tqdm.tqdm(vsi_files)\n",
    "\n",
    "for path in pbar_files:\n",
    "    svi_to_tiff(path)\n",
    "jb.kill_vm()"
   ]
  },
  {
   "cell_type": "code",
   "execution_count": null,
   "metadata": {},
   "outputs": [],
   "source": []
  }
 ],
 "metadata": {
  "kernelspec": {
   "display_name": "Python 3",
   "language": "python",
   "name": "python3"
  },
  "language_info": {
   "codemirror_mode": {
    "name": "ipython",
    "version": 3
   },
   "file_extension": ".py",
   "mimetype": "text/x-python",
   "name": "python",
   "nbconvert_exporter": "python",
   "pygments_lexer": "ipython3",
   "version": "3.6.1"
  }
 },
 "nbformat": 4,
 "nbformat_minor": 2
}
