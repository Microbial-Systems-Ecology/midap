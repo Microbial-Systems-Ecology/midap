{
 "cells": [
  {
   "cell_type": "code",
   "execution_count": 1,
   "metadata": {},
   "outputs": [],
   "source": [
    "from __future__ import unicode_literals, print_function\n",
    "\n",
    "\n",
    "import sys\n",
    "sys.path.append('../util/')\n",
    "from convert_files import *\n",
    "\n",
    "import os\n",
    "import collections\n",
    "import bioformats as bf\n",
    "import glob\n",
    "import javabridge as jb\n",
    "import numpy as np\n",
    "import tifffile as tf\n",
    "import tqdm\n",
    "import xml.dom.minidom\n",
    "import matplotlib.pyplot as plt\n",
    "import tifffile"
   ]
  },
  {
   "cell_type": "code",
   "execution_count": 2,
   "metadata": {},
   "outputs": [
    {
     "name": "stdout",
     "output_type": "stream",
     "text": [
      "Directory  ../data/TimeLapse_20190517_15052019_L-algMono-0.1_tiff  already exists\n"
     ]
    }
   ],
   "source": [
    "# create directory to store the tiff-files in\n",
    "directory = 'TimeLapse_20190517_15052019_L-algMono-0.1' #name of directory with vsi-files\n",
    "vsi_dir, tiff_dir = create_dir_name(directory)\n",
    "create_dir(tiff_dir)"
   ]
  },
  {
   "cell_type": "code",
   "execution_count": 3,
   "metadata": {},
   "outputs": [],
   "source": [
    "vsi_files = glob.glob(vsi_dir + '/*.vsi')"
   ]
  },
  {
   "cell_type": "code",
   "execution_count": null,
   "metadata": {},
   "outputs": [
    {
     "name": "stderr",
     "output_type": "stream",
     "text": [
      " 31%|███▏      | 15/48 [00:05<00:09,  3.58it/s]"
     ]
    }
   ],
   "source": [
    "do_convert(vsi_files, tiff_dir)"
   ]
  },
  {
   "cell_type": "code",
   "execution_count": null,
   "metadata": {},
   "outputs": [],
   "source": []
  }
 ],
 "metadata": {
  "kernelspec": {
   "display_name": "Python 3",
   "language": "python",
   "name": "python3"
  },
  "language_info": {
   "codemirror_mode": {
    "name": "ipython",
    "version": 3
   },
   "file_extension": ".py",
   "mimetype": "text/x-python",
   "name": "python",
   "nbconvert_exporter": "python",
   "pygments_lexer": "ipython3",
   "version": "3.6.1"
  }
 },
 "nbformat": 4,
 "nbformat_minor": 2
}
