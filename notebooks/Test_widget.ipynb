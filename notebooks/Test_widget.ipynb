{
 "cells": [
  {
   "cell_type": "code",
   "execution_count": 2,
   "metadata": {},
   "outputs": [
    {
     "data": {
      "text/html": [
       "<script>\n",
       "code_show=true; \n",
       "function code_toggle() {\n",
       " if (code_show){\n",
       " $('div.input').hide();\n",
       " } else {\n",
       " $('div.input').show();\n",
       " }\n",
       " code_show = !code_show\n",
       "} \n",
       "$( document ).ready(code_toggle);\n",
       "</script>\n",
       "The raw code for this IPython notebook is by default hidden for easier reading.\n",
       "To toggle on/off the raw code, click <a href=\"javascript:code_toggle()\">here</a>."
      ],
      "text/plain": [
       "<IPython.core.display.HTML object>"
      ]
     },
     "execution_count": 2,
     "metadata": {},
     "output_type": "execute_result"
    }
   ],
   "source": [
    "from IPython.display import HTML\n",
    "\n",
    "HTML('''<script>\n",
    "code_show=true; \n",
    "function code_toggle() {\n",
    " if (code_show){\n",
    " $('div.input').hide();\n",
    " } else {\n",
    " $('div.input').show();\n",
    " }\n",
    " code_show = !code_show\n",
    "} \n",
    "$( document ).ready(code_toggle);\n",
    "</script>\n",
    "The raw code for this IPython notebook is by default hidden for easier reading.\n",
    "To toggle on/off the raw code, click <a href=\"javascript:code_toggle()\">here</a>.''')"
   ]
  },
  {
   "cell_type": "code",
   "execution_count": 1,
   "metadata": {},
   "outputs": [],
   "source": [
    "from ipywidgets import interact, widgets\n",
    "from IPython.display import Javascript, display\n",
    "\n",
    "import numpy as np"
   ]
  },
  {
   "cell_type": "code",
   "execution_count": 2,
   "metadata": {},
   "outputs": [],
   "source": [
    "style = {'description_width': 'initial', 'value' : 'initial'}"
   ]
  },
  {
   "cell_type": "code",
   "execution_count": 3,
   "metadata": {},
   "outputs": [],
   "source": [
    "def make_button():\n",
    "    button = widgets.Button(description=\"Done!\",\n",
    "                           icon = 'check')\n",
    "    output = widgets.Output()\n",
    "\n",
    "    display(button, output)\n",
    "\n",
    "    def on_button_clicked(b):\n",
    "        with output:\n",
    "            None\n",
    "            #print(\"Button clicked.\")\n",
    "\n",
    "    button.on_click(on_button_clicked)\n",
    "    \n",
    "def make_run_button(description, end = 1):\n",
    "    def run_all(ev):\n",
    "        display(Javascript('IPython.notebook.execute_cell_range(IPython.notebook.get_selected_index(), IPython.notebook.get_selected_index()+'+str(end)+')'))\n",
    "        #display(Javascript('IPython.notebook.execute_cell(IPython.notebook.get_selected_index())'))\n",
    "    button = widgets.Button(description=description)\n",
    "    button.on_click(run_all)\n",
    "    display(button)"
   ]
  },
  {
   "cell_type": "markdown",
   "metadata": {},
   "source": [
    "# 1. Set parameters"
   ]
  },
  {
   "cell_type": "markdown",
   "metadata": {},
   "source": [
    "## 1.1 Path"
   ]
  },
  {
   "cell_type": "code",
   "execution_count": 4,
   "metadata": {},
   "outputs": [
    {
     "data": {
      "application/vnd.jupyter.widget-view+json": {
       "model_id": "565508cf99034c5bbe0bede7335a213f",
       "version_major": 2,
       "version_minor": 0
      },
      "text/plain": [
       "Text(value='/cluster/work/sis/cdss/oschmanf/ackermann-bacteria-segmentation/data/data_Glen/R3_ZF270g-FS144r/3_…"
      ]
     },
     "metadata": {},
     "output_type": "display_data"
    }
   ],
   "source": [
    "directory = widgets.Text(\n",
    "            value='/cluster/work/sis/cdss/oschmanf/ackermann-bacteria-segmentation/data/data_Glen/R3_ZF270g-FS144r/3_ZF270g-FS144r/_tiff/',\n",
    "            description='Directory',\n",
    "            style = style)\n",
    "display(directory)"
   ]
  },
  {
   "cell_type": "code",
   "execution_count": 6,
   "metadata": {},
   "outputs": [
    {
     "data": {
      "application/javascript": [
       "IPython.notebook.execute_cell_range(IPython.notebook.get_selected_index(), IPython.notebook.get_selected_index()+1)"
      ],
      "text/plain": [
       "<IPython.core.display.Javascript object>"
      ]
     },
     "metadata": {},
     "output_type": "display_data"
    },
    {
     "data": {
      "application/vnd.jupyter.widget-view+json": {
       "model_id": "6d3fd87cfbbc4f1d95d6baa27bd89ea8",
       "version_major": 2,
       "version_minor": 0
      },
      "text/plain": [
       "Button(description='Select directory!', style=ButtonStyle())"
      ]
     },
     "metadata": {},
     "output_type": "display_data"
    },
    {
     "name": "stdout",
     "output_type": "stream",
     "text": [
      "/cluster/work/sis/cdss/oschmanf/ackermann-bacteria-segmentation/data/data_Glen/R3_ZF270g-FS144r/3_ZF270g-FS144r/_tiff/\n"
     ]
    }
   ],
   "source": [
    "make_run_button(\"Select directory!\")\n",
    "\n",
    "sel_directory = directory.value\n",
    "print(sel_directory)"
   ]
  },
  {
   "cell_type": "markdown",
   "metadata": {},
   "source": [
    "## 1.2 Number of channels"
   ]
  },
  {
   "cell_type": "code",
   "execution_count": 7,
   "metadata": {},
   "outputs": [
    {
     "data": {
      "application/vnd.jupyter.widget-view+json": {
       "model_id": "ad8da9980a3740e4acb934b461698273",
       "version_major": 2,
       "version_minor": 0
      },
      "text/plain": [
       "HBox(children=(Checkbox(value=True, description='PH'), Checkbox(value=True, description='GFP'), Checkbox(value…"
      ]
     },
     "metadata": {},
     "output_type": "display_data"
    }
   ],
   "source": [
    "channels = [\"PH\", \"GFP\", \"mCherry\", \"TXRED\"]\n",
    "\n",
    "#selected_data = []\n",
    "\n",
    "checkboxes = [widgets.Checkbox(value=True, description=label) for label in channels]\n",
    "\n",
    "widgets.HBox(children=checkboxes)"
   ]
  },
  {
   "cell_type": "code",
   "execution_count": 9,
   "metadata": {},
   "outputs": [
    {
     "data": {
      "application/javascript": [
       "IPython.notebook.execute_cell_range(IPython.notebook.get_selected_index(), IPython.notebook.get_selected_index()+4)"
      ],
      "text/plain": [
       "<IPython.core.display.Javascript object>"
      ]
     },
     "metadata": {},
     "output_type": "display_data"
    },
    {
     "data": {
      "application/vnd.jupyter.widget-view+json": {
       "model_id": "fee8b68123bf45df9de28c0a96fbd034",
       "version_major": 2,
       "version_minor": 0
      },
      "text/plain": [
       "Button(description='Select channels!', style=ButtonStyle())"
      ]
     },
     "metadata": {},
     "output_type": "display_data"
    },
    {
     "name": "stdout",
     "output_type": "stream",
     "text": [
      "['PH', 'GFP', 'TXRED']\n"
     ]
    }
   ],
   "source": [
    "make_run_button(\"Select channels!\", end = 4)\n",
    "\n",
    "sel_channels_ix = np.where(np.array([c.value for c in checkboxes]))[0]\n",
    "sel_channels = [channels[ix] for ix in sel_channels_ix]\n",
    "\n",
    "print(sel_channels)\n",
    "\n",
    "channel1 = sel_channels[0]\n",
    "channel2 = sel_channels[1]\n",
    "channel3 = sel_channels[2]"
   ]
  },
  {
   "cell_type": "markdown",
   "metadata": {},
   "source": [
    "## 1.3 Input files"
   ]
  },
  {
   "cell_type": "code",
   "execution_count": 10,
   "metadata": {},
   "outputs": [
    {
     "data": {
      "application/vnd.jupyter.widget-view+json": {
       "model_id": "73092f9ca3b14789aff75c5f1539a678",
       "version_major": 2,
       "version_minor": 0
      },
      "text/plain": [
       "VBox(children=(Text(value='', description='file name 1 (PH):', style=DescriptionStyle(description_width='initi…"
      ]
     },
     "metadata": {},
     "output_type": "display_data"
    }
   ],
   "source": [
    "texts = [widgets.Text(\n",
    "    description='file name ' + str(i + 1) + ' ('+ sel_channels[i]+'):',\n",
    "    style = style) \n",
    "              for i in range(len(sel_channels))]\n",
    "widgets.VBox(children=texts)"
   ]
  },
  {
   "cell_type": "code",
   "execution_count": 14,
   "metadata": {},
   "outputs": [
    {
     "data": {
      "application/javascript": [
       "IPython.notebook.execute_cell_range(IPython.notebook.get_selected_index(), IPython.notebook.get_selected_index()+1)"
      ],
      "text/plain": [
       "<IPython.core.display.Javascript object>"
      ]
     },
     "metadata": {},
     "output_type": "display_data"
    },
    {
     "data": {
      "application/vnd.jupyter.widget-view+json": {
       "model_id": "33b398b70026436fa7551c7fb8f30a1b",
       "version_major": 2,
       "version_minor": 0
      },
      "text/plain": [
       "Button(description='Select file-names!', style=ButtonStyle())"
      ]
     },
     "metadata": {},
     "output_type": "display_data"
    },
    {
     "name": "stdout",
     "output_type": "stream",
     "text": [
      "['GD_04092019AlgCo_Cas_Pos58_PH_Exp001.tiff', '\"GD_04092019AlgCo_Cas_Pos58_GFP_Exp001.tiff\"', '\"GD_04092019AlgCo_Cas_Pos58_TXRED_Exp001.tiff\"']\n"
     ]
    }
   ],
   "source": [
    "make_run_button(\"Select file-names!\")\n",
    "file_names = [t.value for t in texts]\n",
    "print(file_names)\n",
    "file_name1 = file_names[0]\n",
    "file_name2 = file_names[1]\n",
    "file_name3 = file_names[2]"
   ]
  },
  {
   "cell_type": "markdown",
   "metadata": {},
   "source": [
    "# 2. Split stack"
   ]
  },
  {
   "cell_type": "code",
   "execution_count": 61,
   "metadata": {},
   "outputs": [
    {
     "name": "stdout",
     "output_type": "stream",
     "text": [
      "(149, 2048, 2048)\n",
      "(149, 2048, 2048)\n",
      "(149, 2048, 2048)\n"
     ]
    }
   ],
   "source": [
    "%%bash -s \"$sel_directory\" \"$file_name1\" \"$file_name2\" \"$file_name3\" \"$channel1\" \"$channel2\" \"$channel3\"\n",
    "\n",
    "eval \"$(conda shell.bash hook)\"\n",
    "conda activate /cluster/work/sis/cdss/oschmanf/miniconda3/envs/workflow\n",
    "\n",
    "PATH_FOLDER=$1\n",
    "INP_1=$2\n",
    "INP_2=$3\n",
    "INP_3=$4\n",
    "CHANNEL_1=$5$\"/\"\n",
    "CHANNEL_2=$6$\"/\"\n",
    "CHANNEL_3=$7$\"/\"\n",
    "POS=\"/Pos58/\"\n",
    "\n",
    "python ../bin/stack2frames.py --path $PATH_FOLDER$INP_1 --pos $POS --channel $CHANNEL_1\n",
    "python ../bin/stack2frames.py --path $PATH_FOLDER$INP_1 --pos $POS --channel $CHANNEL_2\n",
    "python ../bin/stack2frames.py --path $PATH_FOLDER$INP_1 --pos $POS --channel $CHANNEL_3"
   ]
  },
  {
   "cell_type": "code",
   "execution_count": 63,
   "metadata": {},
   "outputs": [
    {
     "data": {
      "application/javascript": [
       "IPython.notebook.execute_cell_range(IPython.notebook.get_selected_index(), IPython.notebook.get_selected_index()+1)"
      ],
      "text/plain": [
       "<IPython.core.display.Javascript object>"
      ]
     },
     "metadata": {},
     "output_type": "display_data"
    },
    {
     "data": {
      "application/vnd.jupyter.widget-view+json": {
       "model_id": "36032a8f0df04876b3d756668b145675",
       "version_major": 2,
       "version_minor": 0
      },
      "text/plain": [
       "Button(description='Split stack into frames!', style=ButtonStyle())"
      ]
     },
     "metadata": {},
     "output_type": "display_data"
    }
   ],
   "source": [
    "make_run_button(\"Split stack into frames!\")"
   ]
  },
  {
   "cell_type": "code",
   "execution_count": null,
   "metadata": {},
   "outputs": [],
   "source": []
  }
 ],
 "metadata": {
  "kernelspec": {
   "display_name": "Python 3",
   "language": "python",
   "name": "python3"
  },
  "language_info": {
   "codemirror_mode": {
    "name": "ipython",
    "version": 3
   },
   "file_extension": ".py",
   "mimetype": "text/x-python",
   "name": "python",
   "nbconvert_exporter": "python",
   "pygments_lexer": "ipython3",
   "version": "3.6.10"
  }
 },
 "nbformat": 4,
 "nbformat_minor": 2
}
