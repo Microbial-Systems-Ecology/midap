{
 "cells": [
  {
   "cell_type": "code",
   "execution_count": null,
   "metadata": {},
   "outputs": [],
   "source": [
    "# Imports"
   ]
  },
  {
   "cell_type": "code",
   "execution_count": null,
   "metadata": {},
   "outputs": [],
   "source": [
    "# Load data"
   ]
  },
  {
   "cell_type": "code",
   "execution_count": null,
   "metadata": {},
   "outputs": [],
   "source": [
    "cell_id = 50\n",
    "\n",
    "mother_frame_0 = inputs_all[0][:,:,1] == cell_id\n",
    "\n",
    "daughter_frame_1 = results_all[0][(cell_id - 2),:,:,0]\n",
    "\n",
    "# get new id\n",
    "daughter_frame_1_cent = regionprops((mother_frame_0).astype(int))[0].centroid\n",
    "segs_frame_1_cents = [r.centroid for r in regionprops(segs_frame_1.astype(int))]\n",
    "\n",
    "new_id = np.argmin([distance.euclidean(daughter_frame_1_cent,c) for c in segs_frame_1_cents])\n",
    "\n",
    "# apply new id\n",
    "segs_frame_1 = inputs_all[1][:,:,1]\n",
    "mother_frame_1 = segs_frame_1 == new_id + 1\n",
    "\n",
    "daughter_frame_2 = results_all[1][(new_id - 1),:,:,0]\n",
    "\n",
    "plt.figure(figsize=(10,10))\n",
    "plt.subplot(2,2,1)\n",
    "plt.imshow(mother_frame_0)\n",
    "plt.title('Input - frame 0 (mother)')\n",
    "\n",
    "plt.subplot(2,2,2)\n",
    "plt.imshow(daughter_frame_1)\n",
    "plt.title('Result - frame 0 (daughter)')\n",
    "\n",
    "plt.subplot(2,2,3)\n",
    "plt.imshow(mother_frame_1)\n",
    "plt.title('Input - frame 1 (mother)')\n",
    "\n",
    "plt.subplot(2,2,4)\n",
    "plt.imshow(daughter_frame_2)\n",
    "plt.title('Result - frame 1 (daughter)')"
   ]
  }
 ],
 "metadata": {
  "kernelspec": {
   "display_name": "Python 3",
   "language": "python",
   "name": "python3"
  },
  "language_info": {
   "codemirror_mode": {
    "name": "ipython",
    "version": 3
   },
   "file_extension": ".py",
   "mimetype": "text/x-python",
   "name": "python",
   "nbconvert_exporter": "python",
   "pygments_lexer": "ipython3",
   "version": "3.7.4"
  }
 },
 "nbformat": 4,
 "nbformat_minor": 2
}
