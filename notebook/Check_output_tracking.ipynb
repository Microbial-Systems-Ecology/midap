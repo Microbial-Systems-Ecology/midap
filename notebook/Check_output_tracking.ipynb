{
 "cells": [
  {
   "cell_type": "markdown",
   "metadata": {},
   "source": [
    "This notebook generates prediction on tracking events based on a trained U-Net and generates lineages from the predictions.\n",
    "\n",
    "Code adapted from: https://gitlab.com/dunloplab/delta"
   ]
  },
  {
   "cell_type": "code",
   "execution_count": 33,
   "metadata": {},
   "outputs": [],
   "source": [
    "import numpy as np\n",
    "import matplotlib.pyplot as plt;\n",
    "import glob\n",
    "import os\n",
    "from tqdm import tqdm\n",
    "\n",
    "import sys\n",
    "sys.path.append('../delta')\n",
    "\n",
    "from data import predictCompilefromseg_track #saveResult_track, \n",
    "from model import unet_track\n",
    "import utilities as utils\n",
    "from skimage.measure import label, regionprops\n",
    "import skimage.io as io\n",
    "from skimage.transform import resize"
   ]
  },
  {
   "cell_type": "markdown",
   "metadata": {},
   "source": [
    "# Load data"
   ]
  },
  {
   "cell_type": "code",
   "execution_count": 34,
   "metadata": {},
   "outputs": [],
   "source": [
    "DeLTA_data = '../../../ackermann-bacteria-segmentation/data/tracking/trial2/pos8/mCherry/'\n",
    "images_folder = DeLTA_data + 'xy1/phase/'\n",
    "segmentation_folder = DeLTA_data + 'seg_im/'\n",
    "outputs_folder = DeLTA_data + 'evaluation/track_output/'\n",
    "model_file = '../delta/model_weights/unet_moma_track_multisets.hdf5'"
   ]
  },
  {
   "cell_type": "code",
   "execution_count": 35,
   "metadata": {},
   "outputs": [],
   "source": [
    "# set number of frames\n",
    "num = 4"
   ]
  },
  {
   "cell_type": "code",
   "execution_count": 36,
   "metadata": {},
   "outputs": [],
   "source": [
    "img_names_sort = np.sort(glob.glob(images_folder + '*frame*'))[:num]\n",
    "seg_names_sort = np.sort(glob.glob(segmentation_folder + '*frame*'))[:num]"
   ]
  },
  {
   "cell_type": "markdown",
   "metadata": {},
   "source": [
    "# Load model and set parameters"
   ]
  },
  {
   "cell_type": "code",
   "execution_count": 37,
   "metadata": {},
   "outputs": [],
   "source": [
    "# generate input for unet\n",
    "\n",
    "def gen_input(img_names_sort, seg_names_sort, cur_frame, target_shape):\n",
    "    img_cur_frame = resize(io.imread(img_names_sort[cur_frame]), target_shape, order=1)\n",
    "    img_prev_frame = resize(io.imread(img_names_sort[cur_frame - 1]), target_shape, order=1)\n",
    "    seg_cur_frame = (resize(io.imread(seg_names_sort[cur_frame]), target_shape, order=0) > 0).astype(int)\n",
    "    seg_prev_frame = (resize(io.imread(seg_names_sort[cur_frame-1]), target_shape, order=0) > 0).astype(int)\n",
    "    \n",
    "    label_prev_frame = label(seg_prev_frame)\n",
    "    label_cells = np.unique(label_prev_frame)\n",
    "    num_cells = len(label_cells) - 1\n",
    "    \n",
    "    input_cur_frame = np.empty((target_shape[0], target_shape[1], 4))\n",
    "    input_cur_frame[:,:,0] = img_prev_frame\n",
    "    input_cur_frame[:,:,1] = label(seg_prev_frame)\n",
    "    input_cur_frame[:,:,2] = img_cur_frame\n",
    "    input_cur_frame[:,:,3] = seg_cur_frame\n",
    "    return input_cur_frame"
   ]
  },
  {
   "cell_type": "code",
   "execution_count": 38,
   "metadata": {},
   "outputs": [],
   "source": [
    "# Parameters:\n",
    "target_size = (512, 512)\n",
    "input_size = target_size + (4,)\n",
    "num_time_steps = len(img_names_sort)\n",
    "\n",
    "# Load up model:\n",
    "model = unet_track(input_size = input_size)\n",
    "model.load_weights(model_file)"
   ]
  },
  {
   "cell_type": "markdown",
   "metadata": {},
   "source": [
    "# Run model to predict cell splits"
   ]
  },
  {
   "cell_type": "code",
   "execution_count": 39,
   "metadata": {},
   "outputs": [
    {
     "name": "stderr",
     "output_type": "stream",
     "text": [
      "100%|██████████| 3/3 [00:43<00:00, 14.35s/it]\n"
     ]
    }
   ],
   "source": [
    "# Process\n",
    "results_all = []\n",
    "inputs_all = []\n",
    "inputs_seg = []\n",
    "time_points = []\n",
    "\n",
    "for cur_frame in tqdm(range(1, num_time_steps)):\n",
    "    inputs = gen_input(img_names_sort, seg_names_sort, cur_frame, target_size)\n",
    "    if inputs.any():\n",
    "        results_ar = []\n",
    "\n",
    "        cell_ids = np.unique(inputs[:,:,1])[1:].astype(int)\n",
    "        for i in cell_ids:\n",
    "            seed = (inputs[:,:,1] == i).astype(int)\n",
    "            inputs_cell = np.empty(inputs.shape)\n",
    "            inputs_cell[:,:,[0,2,3]] = inputs[:,:,[0,2,3]]\n",
    "            inputs_cell[:,:,1] = seed\n",
    "            results = model.predict(np.array((inputs_cell,)),verbose=0)\n",
    "            results_ar.append(results[0,:,:,:])\n",
    "            \n",
    "\n",
    "        results_all.append(np.array(results_ar))\n",
    "        inputs_seg.append(inputs[:,:,3])\n",
    "        inputs_all.append(inputs)\n"
   ]
  },
  {
   "cell_type": "markdown",
   "metadata": {},
   "source": [
    "# Generate lineages based on model output"
   ]
  },
  {
   "cell_type": "code",
   "execution_count": 11,
   "metadata": {},
   "outputs": [],
   "source": [
    "# create input variables for lineage generation\n",
    "timepoints=len(inputs_all) - 1\n",
    "chamber_number = 0\n",
    "num_track_events = [(len(np.unique(i[:,:,1]))-1) for i in inputs_all[:timepoints]]\n",
    "frame_numbers = np.concatenate([[i]*num_track_events[i] for i in range(timepoints)])\n",
    "seg = np.array([i[:,:,3] for i in inputs_all[:timepoints]])\n",
    "track_inputs = np.array([i for i in inputs_all[:timepoints]])\n",
    "track = np.concatenate([i for i in results_all[:timepoints]])"
   ]
  },
  {
   "cell_type": "code",
   "execution_count": 13,
   "metadata": {},
   "outputs": [
    {
     "name": "stderr",
     "output_type": "stream",
     "text": [
      "100%|██████████| 1/1 [00:01<00:00,  1.70s/it]\n"
     ]
    }
   ],
   "source": [
    "# generate lineages\n",
    "label_stack = np.zeros([timepoints,seg.shape[1],seg.shape[2]],dtype=np.uint16)\n",
    "lin, label_stack = utils.updatelineage(seg[chamber_number*timepoints], label_stack) # Initialize lineage and label stack on first frame\n",
    "for i in tqdm(range(1,timepoints)):\n",
    "    frame_idxs = [x for x, fn in enumerate(frame_numbers) if fn==i]\n",
    "    if frame_idxs:\n",
    "        scores = utils.getTrackingScores(track_inputs[i,:,:,3], track[frame_idxs])\n",
    "        attrib = utils.getAttributions(scores)\n",
    "    else:\n",
    "        attrib = []\n",
    "    lin, label_stack = utils.updatelineage(seg[chamber_number*timepoints + i], label_stack, framenb=i, lineage=lin, attrib=attrib) # Because we use uint16, we can only track up to 65535 cells per chamber"
   ]
  },
  {
   "cell_type": "markdown",
   "metadata": {},
   "source": [
    "# Save ouput"
   ]
  },
  {
   "cell_type": "code",
   "execution_count": 15,
   "metadata": {},
   "outputs": [],
   "source": [
    "# reduce results file for storage\n",
    "results_all_red = np.empty((len(results_all), *results_all[0][0,:,:,:2].shape))\n",
    "for t in range(len(results_all)):\n",
    "    for ix, cell_id in enumerate(results_all[t]):\n",
    "        results_all_red[t,cell_id[:,:,0] > 0.9, 0] = ix+1\n",
    "        results_all_red[t,cell_id[:,:,1] > 0.9, 1] = ix+1"
   ]
  },
  {
   "cell_type": "markdown",
   "metadata": {},
   "source": [
    "# Visualize output"
   ]
  },
  {
   "cell_type": "markdown",
   "metadata": {},
   "source": [
    "## Tracking network"
   ]
  },
  {
   "cell_type": "code",
   "execution_count": 27,
   "metadata": {},
   "outputs": [
    {
     "data": {
      "text/plain": [
       "Text(0.5, 1.0, 'Daughter')"
      ]
     },
     "execution_count": 27,
     "metadata": {},
     "output_type": "execute_result"
    },
    {
     "data": {
      "image/png": "[encoded data removed]",
      "text/plain": [
       "<Figure size 1080x1080 with 4 Axes>"
      ]
     },
     "metadata": {
      "needs_background": "light"
     },
     "output_type": "display_data"
    }
   ],
   "source": [
    "frame = 2\n",
    "cell_ix = 20\n",
    "\n",
    "plt.figure(figsize=(15,15))\n",
    "plt.subplot(2,2,1)\n",
    "plt.imshow(inputs_all[frame][:,:,1]==cell_ix)\n",
    "plt.title('Seed (previous frame)')\n",
    "plt.subplot(2,2,2)\n",
    "plt.imshow(inputs_all[frame][:,:,3]==cell_ix)\n",
    "plt.title('Current frame')\n",
    "plt.subplot(2,2,3)\n",
    "plt.imshow(results_all_red[frame,:,:,0]==(cell_ix+1))\n",
    "plt.title('Mother')\n",
    "plt.subplot(2,2,4)\n",
    "plt.imshow(results_all_red[frame,:,:,1]==(cell_ix+1))\n",
    "plt.title('Daughter')"
   ]
  },
  {
   "cell_type": "markdown",
   "metadata": {},
   "source": [
    "## Lineages"
   ]
  },
  {
   "cell_type": "markdown",
   "metadata": {},
   "source": [
    "### Labeled cells"
   ]
  },
  {
   "cell_type": "code",
   "execution_count": 28,
   "metadata": {},
   "outputs": [
    {
     "data": {
      "text/plain": [
       "<matplotlib.colorbar.Colorbar at 0x2b1f763d2150>"
      ]
     },
     "execution_count": 28,
     "metadata": {},
     "output_type": "execute_result"
    },
    {
     "data": {
      "image/png": "[encoded data removed]",
      "text/plain": [
       "<Figure size 720x720 with 3 Axes>"
      ]
     },
     "metadata": {
      "needs_background": "light"
     },
     "output_type": "display_data"
    }
   ],
   "source": [
    "timeframes = np.arange(len(label_stack))\n",
    "plt.figure(figsize = (10,10))\n",
    "for i, l in enumerate(label_stack[::1]):\n",
    "    plt.subplot(3,3,i+1)\n",
    "    plt.imshow(l, vmin=label_stack.min())\n",
    "    plt.title('t='+str(timeframes[::1][i]))\n",
    "    plt.xticks([])\n",
    "    plt.yticks([])\n",
    "plt.colorbar()"
   ]
  },
  {
   "cell_type": "markdown",
   "metadata": {},
   "source": [
    "### Features"
   ]
  },
  {
   "cell_type": "code",
   "execution_count": 29,
   "metadata": {},
   "outputs": [],
   "source": [
    "def compute_area(cell_id):\n",
    "    areas = []\n",
    "    for i in range(num_time_steps-2):\n",
    "        regs_cell = regionprops((label_stack[i] == cell_id).astype(int))\n",
    "        try:\n",
    "            areas.append(regs_cell[0].area)\n",
    "        except IndexError:\n",
    "            areas.append(0)\n",
    "    areas = np.array(areas)\n",
    "    return areas\n",
    "\n",
    "def compute_length(cell_id):\n",
    "    lengths = []\n",
    "    for i in range(num_time_steps-2):\n",
    "        regs_cell = regionprops((label_stack[i] == cell_id).astype(int))\n",
    "        try:\n",
    "            lengths.append(regs_cell[0].major_axis_length)\n",
    "        except IndexError:\n",
    "            lengths.append(0)\n",
    "    lengths = np.array(lengths)\n",
    "    return lengths"
   ]
  },
  {
   "cell_type": "code",
   "execution_count": 30,
   "metadata": {},
   "outputs": [],
   "source": [
    "# Compute features\n",
    "\n",
    "area = compute_area(cell_id = 10)\n",
    "length = compute_length(cell_id = 10)"
   ]
  },
  {
   "cell_type": "code",
   "execution_count": 31,
   "metadata": {},
   "outputs": [
    {
     "data": {
      "text/plain": [
       "Text(0.5, 0, 'Time frame')"
      ]
     },
     "execution_count": 31,
     "metadata": {},
     "output_type": "execute_result"
    },
    {
     "data": {
      "image/png": "[encoded data removed]",
      "text/plain": [
       "<Figure size 432x288 with 1 Axes>"
      ]
     },
     "metadata": {
      "needs_background": "light"
     },
     "output_type": "display_data"
    }
   ],
   "source": [
    "plt.plot(area)\n",
    "plt.ylabel('Area')\n",
    "plt.xlabel('Time frame')"
   ]
  },
  {
   "cell_type": "code",
   "execution_count": 32,
   "metadata": {},
   "outputs": [
    {
     "data": {
      "text/plain": [
       "Text(0.5, 0, 'Time frame')"
      ]
     },
     "execution_count": 32,
     "metadata": {},
     "output_type": "execute_result"
    },
    {
     "data": {
      "image/png": "[encoded data removed]",
      "text/plain": [
       "<Figure size 432x288 with 1 Axes>"
      ]
     },
     "metadata": {
      "needs_background": "light"
     },
     "output_type": "display_data"
    }
   ],
   "source": [
    "plt.plot(length)\n",
    "plt.ylabel('Length')\n",
    "plt.xlabel('Time frame')"
   ]
  },
  {
   "cell_type": "code",
   "execution_count": null,
   "metadata": {},
   "outputs": [],
   "source": []
  },
  {
   "cell_type": "code",
   "execution_count": null,
   "metadata": {},
   "outputs": [],
   "source": []
  }
 ],
 "metadata": {
  "kernelspec": {
   "display_name": "Python 3",
   "language": "python",
   "name": "python3"
  },
  "language_info": {
   "codemirror_mode": {
    "name": "ipython",
    "version": 3
   },
   "file_extension": ".py",
   "mimetype": "text/x-python",
   "name": "python",
   "nbconvert_exporter": "python",
   "pygments_lexer": "ipython3",
   "version": "3.7.4"
  }
 },
 "nbformat": 4,
 "nbformat_minor": 4
}
