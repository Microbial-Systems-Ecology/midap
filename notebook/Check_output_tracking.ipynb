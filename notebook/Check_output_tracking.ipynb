{
 "cells": [
  {
   "cell_type": "markdown",
   "metadata": {},
   "source": [
    "This notebook generates prediction on tracking events based on a trained U-Net and generates lineages from the predictions.\n",
    "\n",
    "Code adapted from: https://gitlab.com/dunloplab/delta"
   ]
  },
  {
   "cell_type": "code",
   "execution_count": 1,
   "metadata": {},
   "outputs": [],
   "source": [
    "import numpy as np\n",
    "import matplotlib.pyplot as plt\n",
    "import glob\n",
    "import os\n",
    "\n",
    "import sys\n",
    "sys.path.append('../delta')\n",
    "\n",
    "from data import predictCompilefromseg_track #saveResult_track, \n",
    "from model import unet_track\n",
    "import utilities as utils\n",
    "from skimage.measure import label, regionprops\n",
    "import skimage.io as io\n",
    "from skimage.transform import resize"
   ]
  },
  {
   "cell_type": "markdown",
   "metadata": {},
   "source": [
    "# Load data"
   ]
  },
  {
   "cell_type": "code",
   "execution_count": 2,
   "metadata": {},
   "outputs": [],
   "source": [
    "DeLTA_data = '../example_data/Glen/Pos57/TXRED/'\n",
    "images_folder = DeLTA_data + 'xy1/phase/'\n",
    "segmentation_folder = DeLTA_data + 'seg_im/'\n",
    "outputs_folder = DeLTA_data + 'evaluation/track_output/'\n",
    "model_file = '../delta/model_weights/unet_moma_track_multisets.hdf5'"
   ]
  },
  {
   "cell_type": "code",
   "execution_count": 3,
   "metadata": {},
   "outputs": [],
   "source": [
    "# set number of frames\n",
    "num = 5"
   ]
  },
  {
   "cell_type": "code",
   "execution_count": 4,
   "metadata": {},
   "outputs": [],
   "source": [
    "img_names_sort = np.sort(os.listdir(images_folder))[:num]\n",
    "seg_names_sort = np.sort(os.listdir(segmentation_folder))[:num]"
   ]
  },
  {
   "cell_type": "markdown",
   "metadata": {},
   "source": [
    "# Load model and set parameters"
   ]
  },
  {
   "cell_type": "code",
   "execution_count": 5,
   "metadata": {},
   "outputs": [],
   "source": [
    "# generate input for unet\n",
    "\n",
    "def gen_input(img_names_sort, seg_names_sort, cur_frame, target_shape):\n",
    "    img_cur_frame = resize(io.imread(images_folder + img_names_sort[cur_frame]), target_shape, order=1)\n",
    "    img_prev_frame = resize(io.imread(images_folder + img_names_sort[cur_frame - 1]), target_shape, order=1)\n",
    "    seg_cur_frame = (resize(io.imread(segmentation_folder + seg_names_sort[cur_frame]), target_shape, order=0) > 0).astype(int)\n",
    "    seg_prev_frame = (resize(io.imread(segmentation_folder + seg_names_sort[cur_frame-1]), target_shape, order=0) > 0).astype(int)\n",
    "    \n",
    "    #inputs_cur_frame = []\n",
    "    label_prev_frame = label(seg_prev_frame)\n",
    "    label_cells = np.unique(label_prev_frame)\n",
    "    num_cells = len(label_cells) - 1\n",
    "    \n",
    "    input_cur_frame = np.zeros((num_cells, target_shape[0], target_shape[1], 4))\n",
    "    for i, l in enumerate(label_cells[1:]):\n",
    "        seed = (label_prev_frame == l).astype(int)\n",
    "        input_cur_frame[i,:,:,0] = img_prev_frame\n",
    "        input_cur_frame[i,:,:,1] = seed\n",
    "        input_cur_frame[i,:,:,2] = img_cur_frame\n",
    "        input_cur_frame[i,:,:,3] = seg_cur_frame\n",
    "    return input_cur_frame"
   ]
  },
  {
   "cell_type": "code",
   "execution_count": 6,
   "metadata": {},
   "outputs": [],
   "source": [
    "# Parameters:\n",
    "target_size = (512, 512)\n",
    "input_size = target_size + (4,)\n",
    "num_time_steps = len(img_names_sort)\n",
    "#process_size = 1 # This is the number of frames to consider _BEFORE_ each sample has been subdivided into cell-specific tracking samples\n",
    "\n",
    "# Load up model:\n",
    "model = unet_track(input_size = input_size)\n",
    "model.load_weights(model_file)\n",
    "\n",
    "# # Select images to be porcessed\n",
    "# unprocessed_pos_01 = list(np.sort(glob.glob(images_folder + '/Position02*')))[:num_time_steps]"
   ]
  },
  {
   "cell_type": "markdown",
   "metadata": {},
   "source": [
    "# Run model to predict cell splits"
   ]
  },
  {
   "cell_type": "code",
   "execution_count": 7,
   "metadata": {},
   "outputs": [
    {
     "name": "stdout",
     "output_type": "stream",
     "text": [
      "(57, 512, 512, 4)\n",
      "1/1 [==============================] - 2s 2s/step\n",
      "1/1 [==============================] - 2s 2s/step\n",
      "1/1 [==============================] - 2s 2s/step\n",
      "1/1 [==============================] - 2s 2s/step\n",
      "1/1 [==============================] - 2s 2s/step\n",
      "1/1 [==============================] - 2s 2s/step\n",
      "1/1 [==============================] - 2s 2s/step\n",
      "1/1 [==============================] - 2s 2s/step\n",
      "1/1 [==============================] - 2s 2s/step\n",
      "1/1 [==============================] - 2s 2s/step\n",
      "1/1 [==============================] - 2s 2s/step\n",
      "1/1 [==============================] - 2s 2s/step\n",
      "1/1 [==============================] - 2s 2s/step\n",
      "1/1 [==============================] - 2s 2s/step\n",
      "1/1 [==============================] - 2s 2s/step\n",
      "1/1 [==============================] - 2s 2s/step\n",
      "1/1 [==============================] - 2s 2s/step\n",
      "1/1 [==============================] - 2s 2s/step\n",
      "1/1 [==============================] - 2s 2s/step\n",
      "1/1 [==============================] - 2s 2s/step\n",
      "1/1 [==============================] - 2s 2s/step\n",
      "1/1 [==============================] - 2s 2s/step\n",
      "1/1 [==============================] - 2s 2s/step\n",
      "1/1 [==============================] - 2s 2s/step\n",
      "1/1 [==============================] - 2s 2s/step\n",
      "1/1 [==============================] - 2s 2s/step\n",
      "1/1 [==============================] - 2s 2s/step\n",
      "1/1 [==============================] - 2s 2s/step\n",
      "1/1 [==============================] - 2s 2s/step\n",
      "1/1 [==============================] - 2s 2s/step\n",
      "1/1 [==============================] - 2s 2s/step\n",
      "1/1 [==============================] - 2s 2s/step\n",
      "1/1 [==============================] - 2s 2s/step\n",
      "1/1 [==============================] - 2s 2s/step\n",
      "1/1 [==============================] - 2s 2s/step\n",
      "1/1 [==============================] - 2s 2s/step\n",
      "1/1 [==============================] - 2s 2s/step\n",
      "1/1 [==============================] - 2s 2s/step\n",
      "1/1 [==============================] - 2s 2s/step\n",
      "1/1 [==============================] - 2s 2s/step\n",
      "1/1 [==============================] - 2s 2s/step\n",
      "1/1 [==============================] - 2s 2s/step\n",
      "1/1 [==============================] - 2s 2s/step\n",
      "1/1 [==============================] - 2s 2s/step\n",
      "1/1 [==============================] - 2s 2s/step\n",
      "1/1 [==============================] - 2s 2s/step\n",
      "1/1 [==============================] - 2s 2s/step\n",
      "1/1 [==============================] - 3s 3s/step\n",
      "1/1 [==============================] - 3s 3s/step\n",
      "1/1 [==============================] - 3s 3s/step\n",
      "1/1 [==============================] - 3s 3s/step\n",
      "1/1 [==============================] - 2s 2s/step\n",
      "1/1 [==============================] - 2s 2s/step\n",
      "1/1 [==============================] - 2s 2s/step\n",
      "1/1 [==============================] - 2s 2s/step\n",
      "1/1 [==============================] - 2s 2s/step\n",
      "1/1 [==============================] - 2s 2s/step\n",
      "(53, 512, 512, 4)\n",
      "1/1 [==============================] - 2s 2s/step\n",
      "1/1 [==============================] - 2s 2s/step\n",
      "1/1 [==============================] - 2s 2s/step\n",
      "1/1 [==============================] - 2s 2s/step\n",
      "1/1 [==============================] - 2s 2s/step\n",
      "1/1 [==============================] - 2s 2s/step\n",
      "1/1 [==============================] - 2s 2s/step\n",
      "1/1 [==============================] - 2s 2s/step\n",
      "1/1 [==============================] - 2s 2s/step\n",
      "1/1 [==============================] - 2s 2s/step\n",
      "1/1 [==============================] - 2s 2s/step\n",
      "1/1 [==============================] - 2s 2s/step\n",
      "1/1 [==============================] - 2s 2s/step\n",
      "1/1 [==============================] - 2s 2s/step\n",
      "1/1 [==============================] - 2s 2s/step\n",
      "1/1 [==============================] - 2s 2s/step\n",
      "1/1 [==============================] - 2s 2s/step\n",
      "1/1 [==============================] - 2s 2s/step\n",
      "1/1 [==============================] - 2s 2s/step\n",
      "1/1 [==============================] - 2s 2s/step\n",
      "1/1 [==============================] - 2s 2s/step\n",
      "1/1 [==============================] - 2s 2s/step\n",
      "1/1 [==============================] - 2s 2s/step\n",
      "1/1 [==============================] - 2s 2s/step\n",
      "1/1 [==============================] - 2s 2s/step\n",
      "1/1 [==============================] - 2s 2s/step\n",
      "1/1 [==============================] - 2s 2s/step\n",
      "1/1 [==============================] - 2s 2s/step\n",
      "1/1 [==============================] - 2s 2s/step\n",
      "1/1 [==============================] - 2s 2s/step\n",
      "1/1 [==============================] - 2s 2s/step\n",
      "1/1 [==============================] - 2s 2s/step\n",
      "1/1 [==============================] - 2s 2s/step\n",
      "1/1 [==============================] - 2s 2s/step\n",
      "1/1 [==============================] - 2s 2s/step\n",
      "1/1 [==============================] - 2s 2s/step\n",
      "1/1 [==============================] - 2s 2s/step\n",
      "1/1 [==============================] - 2s 2s/step\n",
      "1/1 [==============================] - 2s 2s/step\n",
      "1/1 [==============================] - 2s 2s/step\n",
      "1/1 [==============================] - 2s 2s/step\n",
      "1/1 [==============================] - 2s 2s/step\n",
      "1/1 [==============================] - 2s 2s/step\n",
      "1/1 [==============================] - 2s 2s/step\n",
      "1/1 [==============================] - 2s 2s/step\n",
      "1/1 [==============================] - 2s 2s/step\n",
      "1/1 [==============================] - 2s 2s/step\n",
      "1/1 [==============================] - 2s 2s/step\n",
      "1/1 [==============================] - 2s 2s/step\n",
      "1/1 [==============================] - 2s 2s/step\n",
      "1/1 [==============================] - 2s 2s/step\n",
      "1/1 [==============================] - 2s 2s/step\n",
      "1/1 [==============================] - 2s 2s/step\n",
      "(52, 512, 512, 4)\n",
      "1/1 [==============================] - 2s 2s/step\n",
      "1/1 [==============================] - 2s 2s/step\n",
      "1/1 [==============================] - 2s 2s/step\n",
      "1/1 [==============================] - 2s 2s/step\n",
      "1/1 [==============================] - 2s 2s/step\n",
      "1/1 [==============================] - 2s 2s/step\n",
      "1/1 [==============================] - 2s 2s/step\n",
      "1/1 [==============================] - 2s 2s/step\n",
      "1/1 [==============================] - 2s 2s/step\n",
      "1/1 [==============================] - 2s 2s/step\n",
      "1/1 [==============================] - 2s 2s/step\n",
      "1/1 [==============================] - 2s 2s/step\n",
      "1/1 [==============================] - 2s 2s/step\n",
      "1/1 [==============================] - 2s 2s/step\n",
      "1/1 [==============================] - 2s 2s/step\n",
      "1/1 [==============================] - 2s 2s/step\n",
      "1/1 [==============================] - 2s 2s/step\n",
      "1/1 [==============================] - 2s 2s/step\n",
      "1/1 [==============================] - 2s 2s/step\n",
      "1/1 [==============================] - 2s 2s/step\n",
      "1/1 [==============================] - 2s 2s/step\n",
      "1/1 [==============================] - 2s 2s/step\n",
      "1/1 [==============================] - 2s 2s/step\n",
      "1/1 [==============================] - 2s 2s/step\n",
      "1/1 [==============================] - 2s 2s/step\n",
      "1/1 [==============================] - 2s 2s/step\n",
      "1/1 [==============================] - 2s 2s/step\n",
      "1/1 [==============================] - 2s 2s/step\n",
      "1/1 [==============================] - 2s 2s/step\n",
      "1/1 [==============================] - 2s 2s/step\n",
      "1/1 [==============================] - 2s 2s/step\n",
      "1/1 [==============================] - 2s 2s/step\n",
      "1/1 [==============================] - 2s 2s/step\n",
      "1/1 [==============================] - 2s 2s/step\n",
      "1/1 [==============================] - 2s 2s/step\n",
      "1/1 [==============================] - 2s 2s/step\n",
      "1/1 [==============================] - 2s 2s/step\n",
      "1/1 [==============================] - 2s 2s/step\n",
      "1/1 [==============================] - 2s 2s/step\n",
      "1/1 [==============================] - 2s 2s/step\n",
      "1/1 [==============================] - 2s 2s/step\n",
      "1/1 [==============================] - 2s 2s/step\n",
      "1/1 [==============================] - 2s 2s/step\n",
      "1/1 [==============================] - 2s 2s/step\n",
      "1/1 [==============================] - 2s 2s/step\n",
      "1/1 [==============================] - 2s 2s/step\n",
      "1/1 [==============================] - 2s 2s/step\n",
      "1/1 [==============================] - 2s 2s/step\n",
      "1/1 [==============================] - 2s 2s/step\n",
      "1/1 [==============================] - 2s 2s/step\n",
      "1/1 [==============================] - 2s 2s/step\n",
      "1/1 [==============================] - 2s 2s/step\n",
      "(51, 512, 512, 4)\n",
      "1/1 [==============================] - 2s 2s/step\n",
      "1/1 [==============================] - 2s 2s/step\n",
      "1/1 [==============================] - 2s 2s/step\n",
      "1/1 [==============================] - 2s 2s/step\n",
      "1/1 [==============================] - 2s 2s/step\n",
      "1/1 [==============================] - 2s 2s/step\n",
      "1/1 [==============================] - 2s 2s/step\n",
      "1/1 [==============================] - 2s 2s/step\n",
      "1/1 [==============================] - 2s 2s/step\n",
      "1/1 [==============================] - 2s 2s/step\n",
      "1/1 [==============================] - 2s 2s/step\n",
      "1/1 [==============================] - 2s 2s/step\n",
      "1/1 [==============================] - 2s 2s/step\n",
      "1/1 [==============================] - 2s 2s/step\n",
      "1/1 [==============================] - 2s 2s/step\n",
      "1/1 [==============================] - 2s 2s/step\n",
      "1/1 [==============================] - 2s 2s/step\n",
      "1/1 [==============================] - 2s 2s/step\n",
      "1/1 [==============================] - 2s 2s/step\n",
      "1/1 [==============================] - 2s 2s/step\n",
      "1/1 [==============================] - 2s 2s/step\n",
      "1/1 [==============================] - 2s 2s/step\n",
      "1/1 [==============================] - 2s 2s/step\n",
      "1/1 [==============================] - 2s 2s/step\n",
      "1/1 [==============================] - 2s 2s/step\n",
      "1/1 [==============================] - 2s 2s/step\n",
      "1/1 [==============================] - 2s 2s/step\n",
      "1/1 [==============================] - 2s 2s/step\n",
      "1/1 [==============================] - 2s 2s/step\n",
      "1/1 [==============================] - 2s 2s/step\n",
      "1/1 [==============================] - 2s 2s/step\n",
      "1/1 [==============================] - 2s 2s/step\n",
      "1/1 [==============================] - 2s 2s/step\n",
      "1/1 [==============================] - 2s 2s/step\n",
      "1/1 [==============================] - 2s 2s/step\n",
      "1/1 [==============================] - 2s 2s/step\n",
      "1/1 [==============================] - 2s 2s/step\n",
      "1/1 [==============================] - 2s 2s/step\n",
      "1/1 [==============================] - 2s 2s/step\n",
      "1/1 [==============================] - 2s 2s/step\n",
      "1/1 [==============================] - 2s 2s/step\n",
      "1/1 [==============================] - 2s 2s/step\n",
      "1/1 [==============================] - 2s 2s/step\n",
      "1/1 [==============================] - 2s 2s/step\n",
      "1/1 [==============================] - 2s 2s/step\n",
      "1/1 [==============================] - 2s 2s/step\n",
      "1/1 [==============================] - 2s 2s/step\n",
      "1/1 [==============================] - 2s 2s/step\n",
      "1/1 [==============================] - 2s 2s/step\n",
      "1/1 [==============================] - 2s 2s/step\n",
      "1/1 [==============================] - 2s 2s/step\n"
     ]
    }
   ],
   "source": [
    "# Process\n",
    "results_all = []\n",
    "inputs_all = []\n",
    "inputs_seg = []\n",
    "time_points = []\n",
    "# t = 1\n",
    "# while(unprocessed_pos_01):\n",
    "\n",
    "\n",
    "#     # Pop out filenames\n",
    "#     ps = min(process_size,len(unprocessed_pos_01))\n",
    "#     to_process = unprocessed_pos_01[0:ps]\n",
    "#     del unprocessed_pos_01[0:ps]\n",
    "\n",
    "#     # Get data:\n",
    "#     inputs, seg_filenames = predictCompilefromseg_track(images_folder, segmentation_folder,\n",
    "#                                                         files_list = to_process,\n",
    "#                                                         target_size = target_size)\n",
    "for cur_frame in range(1, num_time_steps):\n",
    "    inputs = gen_input(img_names_sort, seg_names_sort, cur_frame, target_size)\n",
    "    print(inputs.shape)\n",
    "    if inputs.any(): # If not, probably first frame only\n",
    "        # Predict:\n",
    "        results_ar = []\n",
    "        for i in range(inputs.shape[0]):\n",
    "            results = model.predict(np.array((inputs[i,:,:,:],)),verbose=1)\n",
    "            results_ar.append(results[0,:,:,:])\n",
    "\n",
    "        results_all.append(np.array(results_ar))\n",
    "        inputs_seg.append(inputs[0,:,:,3])\n",
    "        inputs_all.append(inputs)\n",
    "        #time_points.append(np.ones(inputs.shape[0], dtype=int)*t)\n",
    "#         t += 1\n",
    "            # Save (use the filenames list from the data compiler)\n",
    "            #saveResult_track(outputs_folder,results, files_list = (seg_filenames[i],))\n",
    "\n"
   ]
  },
  {
   "cell_type": "markdown",
   "metadata": {},
   "source": [
    "# Generate lineages based on model output"
   ]
  },
  {
   "cell_type": "code",
   "execution_count": 8,
   "metadata": {},
   "outputs": [],
   "source": [
    "# create input variables for lineage generation\n",
    "timepoints=len(inputs_all) - 1\n",
    "chamber_number = 0\n",
    "num_track_events = [len(i) for i in inputs_all[:timepoints]]\n",
    "frame_numbers = np.concatenate([[i]*num_track_events[i] for i in range(timepoints)])\n",
    "seg = np.array([i[0,:,:,3] for i in inputs_all[:timepoints]])\n",
    "track_inputs = np.concatenate([i for i in inputs_all[:timepoints]])\n",
    "track = np.concatenate([i for i in results_all[:timepoints]])"
   ]
  },
  {
   "cell_type": "code",
   "execution_count": 9,
   "metadata": {},
   "outputs": [
    {
     "name": "stdout",
     "output_type": "stream",
     "text": [
      "(53, 52, 2)\n",
      "(52, 51, 2)\n"
     ]
    }
   ],
   "source": [
    "# generate lineages\n",
    "label_stack = np.zeros([timepoints,seg.shape[1],seg.shape[2]],dtype=np.uint16)\n",
    "lin, label_stack = utils.updatelineage(seg[chamber_number*timepoints], label_stack) # Initialize lineage and label stack on first frame\n",
    "for i in range(1,timepoints):\n",
    "    frame_idxs = [x for x, fn in enumerate(frame_numbers) if fn==i]\n",
    "    if frame_idxs:\n",
    "        scores = utils.getTrackingScores(track_inputs[frame_idxs[0],:,:,3], track[frame_idxs])\n",
    "        attrib = utils.getAttributions(scores)\n",
    "        print(attrib.shape)\n",
    "    else:\n",
    "        attrib = []\n",
    "    lin, label_stack = utils.updatelineage(seg[chamber_number*timepoints + i], label_stack, framenb=i, lineage=lin, attrib=attrib) # Because we use uint16, we can only track up to 65535 cells per chamber"
   ]
  },
  {
   "cell_type": "markdown",
   "metadata": {},
   "source": [
    "# Visualize output"
   ]
  },
  {
   "cell_type": "markdown",
   "metadata": {},
   "source": [
    "## Tracking network"
   ]
  },
  {
   "cell_type": "markdown",
   "metadata": {},
   "source": [
    "#### Good/working example"
   ]
  },
  {
   "cell_type": "code",
   "execution_count": 11,
   "metadata": {},
   "outputs": [
    {
     "data": {
      "text/plain": [
       "Text(0.5, 1.0, 'Daughter')"
      ]
     },
     "execution_count": 11,
     "metadata": {},
     "output_type": "execute_result"
    },
    {
     "data": {
      "image/png": "[encoded data removed]",
      "text/plain": [
       "<Figure size 1080x1080 with 4 Axes>"
      ]
     },
     "metadata": {
      "needs_background": "light"
     },
     "output_type": "display_data"
    }
   ],
   "source": [
    "frame = 3\n",
    "cell_ix = 2\n",
    "\n",
    "plt.figure(figsize=(15,15))\n",
    "plt.subplot(2,2,1)\n",
    "plt.imshow(inputs_all[frame][cell_ix,:,:,1])\n",
    "plt.title('Seed (previous frame)')\n",
    "plt.subplot(2,2,2)\n",
    "plt.imshow(inputs_all[frame][cell_ix,:,:,3])\n",
    "plt.title('Current frame')\n",
    "plt.subplot(2,2,3)\n",
    "plt.imshow(results_all[frame][cell_ix,:,:,0] > 0.7)\n",
    "plt.title('Mother')\n",
    "plt.subplot(2,2,4)\n",
    "plt.imshow(results_all[frame][cell_ix,:,:,1] > 0.7)\n",
    "plt.title('Daughter')"
   ]
  },
  {
   "cell_type": "markdown",
   "metadata": {},
   "source": [
    "#### Bad/non-working example"
   ]
  },
  {
   "cell_type": "code",
   "execution_count": 13,
   "metadata": {},
   "outputs": [
    {
     "data": {
      "text/plain": [
       "Text(0.5, 1.0, 'Daughter')"
      ]
     },
     "execution_count": 13,
     "metadata": {},
     "output_type": "execute_result"
    },
    {
     "data": {
      "image/png": "[encoded data removed]",
      "text/plain": [
       "<Figure size 1080x1080 with 4 Axes>"
      ]
     },
     "metadata": {
      "needs_background": "light"
     },
     "output_type": "display_data"
    }
   ],
   "source": [
    "frame = 1\n",
    "cell_ix = 6\n",
    "\n",
    "plt.figure(figsize=(15,15))\n",
    "plt.subplot(2,2,1)\n",
    "plt.imshow(inputs_all[frame][cell_ix,:,:,1])\n",
    "plt.title('Seed (previous frame)')\n",
    "plt.subplot(2,2,2)\n",
    "plt.imshow(inputs_all[frame][cell_ix,:,:,3])\n",
    "plt.title('Current frame')\n",
    "plt.subplot(2,2,3)\n",
    "plt.imshow(results_all[frame][cell_ix,:,:,0] > 0.7)\n",
    "plt.title('Mother')\n",
    "plt.subplot(2,2,4)\n",
    "plt.imshow(results_all[frame][cell_ix,:,:,1] > 0.7)\n",
    "plt.title('Daughter')"
   ]
  },
  {
   "cell_type": "markdown",
   "metadata": {},
   "source": [
    "## Lineages"
   ]
  },
  {
   "cell_type": "markdown",
   "metadata": {},
   "source": [
    "### Labeled cells"
   ]
  },
  {
   "cell_type": "code",
   "execution_count": 14,
   "metadata": {},
   "outputs": [
    {
     "data": {
      "text/plain": [
       "<matplotlib.colorbar.Colorbar at 0x7fbe3eaed9d0>"
      ]
     },
     "execution_count": 14,
     "metadata": {},
     "output_type": "execute_result"
    },
    {
     "data": {
      "image/png": "[encoded data removed]",
      "text/plain": [
       "<Figure size 720x720 with 4 Axes>"
      ]
     },
     "metadata": {
      "needs_background": "light"
     },
     "output_type": "display_data"
    }
   ],
   "source": [
    "timeframes = np.arange(len(label_stack))\n",
    "plt.figure(figsize = (10,10))\n",
    "for i, l in enumerate(label_stack[::1]):\n",
    "    plt.subplot(3,3,i+1)\n",
    "    plt.imshow(l, vmin=label_stack.min())\n",
    "    plt.title('t='+str(timeframes[::1][i]))\n",
    "    plt.xticks([])\n",
    "    plt.yticks([])\n",
    "plt.colorbar()"
   ]
  },
  {
   "cell_type": "markdown",
   "metadata": {},
   "source": [
    "### Features"
   ]
  },
  {
   "cell_type": "code",
   "execution_count": 15,
   "metadata": {},
   "outputs": [],
   "source": [
    "def compute_area(cell_id):\n",
    "    areas = []\n",
    "    for i in range(num_time_steps-2):\n",
    "        regs_cell = regionprops((label_stack[i] == cell_id).astype(int))\n",
    "        try:\n",
    "            areas.append(regs_cell[0].area)\n",
    "        except IndexError:\n",
    "            areas.append(0)\n",
    "    areas = np.array(areas)\n",
    "    return areas\n",
    "\n",
    "def compute_length(cell_id):\n",
    "    lengths = []\n",
    "    for i in range(num_time_steps-2):\n",
    "        regs_cell = regionprops((label_stack[i] == cell_id).astype(int))\n",
    "        try:\n",
    "            lengths.append(regs_cell[0].major_axis_length)\n",
    "        except IndexError:\n",
    "            lengths.append(0)\n",
    "    lengths = np.array(lengths)\n",
    "    return lengths"
   ]
  },
  {
   "cell_type": "code",
   "execution_count": 16,
   "metadata": {},
   "outputs": [],
   "source": [
    "# Compute features\n",
    "\n",
    "area = compute_area(cell_id = 10)\n",
    "length = compute_length(cell_id = 10)"
   ]
  },
  {
   "cell_type": "code",
   "execution_count": 17,
   "metadata": {},
   "outputs": [
    {
     "data": {
      "text/plain": [
       "Text(0.5, 0, 'Time frame')"
      ]
     },
     "execution_count": 17,
     "metadata": {},
     "output_type": "execute_result"
    },
    {
     "data": {
      "image/png": "[encoded data removed]",
      "text/plain": [
       "<Figure size 432x288 with 1 Axes>"
      ]
     },
     "metadata": {
      "needs_background": "light"
     },
     "output_type": "display_data"
    }
   ],
   "source": [
    "plt.plot(area)\n",
    "plt.ylabel('Area')\n",
    "plt.xlabel('Time frame')"
   ]
  },
  {
   "cell_type": "code",
   "execution_count": 18,
   "metadata": {},
   "outputs": [
    {
     "data": {
      "text/plain": [
       "Text(0.5, 0, 'Time frame')"
      ]
     },
     "execution_count": 18,
     "metadata": {},
     "output_type": "execute_result"
    },
    {
     "data": {
      "image/png": "[encoded data removed]",
      "text/plain": [
       "<Figure size 432x288 with 1 Axes>"
      ]
     },
     "metadata": {
      "needs_background": "light"
     },
     "output_type": "display_data"
    }
   ],
   "source": [
    "plt.plot(length)\n",
    "plt.ylabel('Length')\n",
    "plt.xlabel('Time frame')"
   ]
  },
  {
   "cell_type": "code",
   "execution_count": null,
   "metadata": {},
   "outputs": [],
   "source": []
  }
 ],
 "metadata": {
  "kernelspec": {
   "display_name": "Python 3",
   "language": "python",
   "name": "python3"
  },
  "language_info": {
   "codemirror_mode": {
    "name": "ipython",
    "version": 3
   },
   "file_extension": ".py",
   "mimetype": "text/x-python",
   "name": "python",
   "nbconvert_exporter": "python",
   "pygments_lexer": "ipython3",
   "version": "3.7.4"
  }
 },
 "nbformat": 4,
 "nbformat_minor": 4
}
