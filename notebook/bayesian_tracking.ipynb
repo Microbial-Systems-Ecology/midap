{
 "cells": [
  {
   "cell_type": "markdown",
   "id": "d56d5b54-88a8-429b-8859-f0b27fb1bb26",
   "metadata": {
    "execution": {
     "iopub.execute_input": "2022-11-24T09:05:50.543735Z",
     "iopub.status.busy": "2022-11-24T09:05:50.543460Z",
     "iopub.status.idle": "2022-11-24T09:05:50.548428Z",
     "shell.execute_reply": "2022-11-24T09:05:50.547134Z",
     "shell.execute_reply.started": "2022-11-24T09:05:50.543710Z"
    },
    "tags": []
   },
   "source": [
    "This notebook tests the python btrack module."
   ]
  },
  {
   "cell_type": "code",
   "execution_count": 2,
   "id": "eeef40b0-92f9-44a1-8f46-f25a597fa3ff",
   "metadata": {
    "execution": {
     "iopub.execute_input": "2022-12-07T20:43:53.520191Z",
     "iopub.status.busy": "2022-12-07T20:43:53.519772Z",
     "iopub.status.idle": "2022-12-07T20:43:57.658650Z",
     "shell.execute_reply": "2022-12-07T20:43:57.657336Z",
     "shell.execute_reply.started": "2022-12-07T20:43:53.520146Z"
    },
    "tags": []
   },
   "outputs": [],
   "source": [
    "from midap.tracking.bayesian_tracking import BayesianCellTracking\n",
    "\n",
    "import glob\n",
    "import numpy as np\n",
    "import matplotlib.pyplot as plt\n",
    "from skimage import io\n",
    "from skimage.measure import regionprops\n",
    "from scipy.spatial import distance\n",
    "import pandas as pd\n",
    "import os"
   ]
  },
  {
   "cell_type": "markdown",
   "id": "8d767077-5695-49ea-921b-ab2b217b59d9",
   "metadata": {},
   "source": [
    "### Load segmentations"
   ]
  },
  {
   "cell_type": "code",
   "execution_count": 3,
   "id": "454c6795-fc0d-42a6-b6ca-35b1abb504d7",
   "metadata": {
    "execution": {
     "iopub.execute_input": "2022-12-07T20:43:57.662229Z",
     "iopub.status.busy": "2022-12-07T20:43:57.661543Z",
     "iopub.status.idle": "2022-12-07T20:43:57.671631Z",
     "shell.execute_reply": "2022-12-07T20:43:57.670222Z",
     "shell.execute_reply.started": "2022-12-07T20:43:57.662188Z"
    },
    "tags": []
   },
   "outputs": [],
   "source": [
    "# Load data\n",
    "path = '../example_data/Pos58/TXRED'\n",
    "images_folder = os.path.join(path, 'cut_im')\n",
    "segmentation_folder = os.path.join(path, 'seg_im')\n",
    "\n",
    "# glob all the cut images and segmented images\n",
    "img_names_sort = np.sort(glob.glob(os.path.join(images_folder, '*frame*.png')))\n",
    "seg_names_sort = np.sort(glob.glob(os.path.join(segmentation_folder, '*frame*.png')))\n",
    "\n",
    "# Parameters:\n",
    "crop_size = (128, 128)\n",
    "target_size = (512, 512)\n",
    "input_size = crop_size + (4,)\n",
    "num_time_steps = len(img_names_sort)"
   ]
  },
  {
   "cell_type": "code",
   "execution_count": null,
   "id": "ed14fece-994b-4042-ad9a-2308a8f02cb2",
   "metadata": {
    "tags": []
   },
   "outputs": [],
   "source": []
  },
  {
   "cell_type": "markdown",
   "id": "ef9d3b5f-1eb2-472f-9aea-2c45d7e4aa18",
   "metadata": {},
   "source": [
    "### Run the tracking"
   ]
  },
  {
   "cell_type": "code",
   "execution_count": 4,
   "id": "199c248a-ce81-4088-b3de-3e959e3fd34b",
   "metadata": {
    "execution": {
     "iopub.execute_input": "2022-12-07T20:43:57.674371Z",
     "iopub.status.busy": "2022-12-07T20:43:57.673888Z",
     "iopub.status.idle": "2022-12-07T20:44:01.240606Z",
     "shell.execute_reply": "2022-12-07T20:44:01.239007Z",
     "shell.execute_reply.started": "2022-12-07T20:43:57.674329Z"
    },
    "tags": []
   },
   "outputs": [
    {
     "name": "stderr",
     "output_type": "stream",
     "text": [
      "[INFO][2022/12/07 09:44:00 PM] Localizing objects from segmentation...\n",
      "[INFO][2022/12/07 09:44:00 PM] Found intensity_image data\n",
      "[INFO][2022/12/07 09:44:00 PM] Calculating weighted centroids using intensity_image\n",
      "[INFO][2022/12/07 09:44:01 PM] Objects are of type: <class 'dict'>\n",
      "[INFO][2022/12/07 09:44:01 PM] ...Found 504 objects in 9 frames.\n",
      "[INFO][2022/12/07 09:44:01 PM] Loaded btrack: /Users/franziskaoschmann/miniconda3/envs/midap/lib/python3.8/site-packages/btrack/libs/libtracker.dylib\n",
      "[INFO][2022/12/07 09:44:01 PM] btrack (v0.4.6) library imported\n",
      "[INFO][2022/12/07 09:44:01 PM] Starting BayesianTracker session\n",
      "[INFO][2022/12/07 09:44:01 PM] Setting update_method -> BayesianUpdates.EXACT\n",
      "[INFO][2022/12/07 09:44:01 PM] Loading configuration file: /Users/franziskaoschmann/Library/Caches/btrack-examples/examples/cell_config.json\n",
      "[INFO][2022/12/07 09:44:01 PM] Setting max_search_radius -> 200\n",
      "[INFO][2022/12/07 09:44:01 PM] Setting features -> ['area', 'major_axis_length', 'minor_axis_length', 'orientation', 'intensity_mean', 'intensity_min', 'intensity_max', 'coords']\n",
      "[INFO][2022/12/07 09:44:01 PM] Setting tracking_updates -> ['VISUAL']\n",
      "[INFO][2022/12/07 09:44:01 PM] Objects are of type: <class 'list'>\n",
      "[INFO][2022/12/07 09:44:01 PM] Starting tracking... \n",
      "[INFO][2022/12/07 09:44:01 PM] Tracking objects in frames 0 to 9 (of 9)...\n",
      "[INFO][2022/12/07 09:44:01 PM]  - Timing (Bayesian updates: 1.87ms, Linking: 0.71ms)\n",
      "[INFO][2022/12/07 09:44:01 PM]  - Probabilities (Link: 0.96214, Lost: 1.00000)\n",
      "[INFO][2022/12/07 09:44:01 PM] SUCCESS.\n",
      "[INFO][2022/12/07 09:44:01 PM]  - Found 75 tracks in 9 frames (in 0.0s)\n",
      "[INFO][2022/12/07 09:44:01 PM]  - Inserted 0 dummy objects to fill tracking gaps\n",
      "[INFO][2022/12/07 09:44:01 PM] Loading hypothesis model: cell_hypothesis\n",
      "[INFO][2022/12/07 09:44:01 PM] Calculating hypotheses (relax: True)...\n",
      "[INFO][2022/12/07 09:44:01 PM] Setting up constraints matrix for global optimisation...\n",
      "[INFO][2022/12/07 09:44:01 PM] Using GLPK options: {'tm_lim': 60000}...\n",
      "[INFO][2022/12/07 09:44:01 PM] Optimizing...\n",
      "[INFO][2022/12/07 09:44:01 PM] Optimization complete. (Solution: optimal)\n",
      "[INFO][2022/12/07 09:44:01 PM]  - Fates.FALSE_POSITIVE: 8 (of 75)\n",
      "[INFO][2022/12/07 09:44:01 PM]  - Fates.LINK: 2 (of 5)\n",
      "[INFO][2022/12/07 09:44:01 PM]  - Fates.DIVIDE: 1 (of 1)\n",
      "[INFO][2022/12/07 09:44:01 PM]  - Fates.INITIALIZE_BORDER: 8 (of 10)\n",
      "[INFO][2022/12/07 09:44:01 PM]  - Fates.INITIALIZE_FRONT: 54 (of 60)\n",
      "[INFO][2022/12/07 09:44:01 PM]  - Fates.INITIALIZE_LAZY: 1 (of 5)\n",
      "[INFO][2022/12/07 09:44:01 PM]  - Fates.TERMINATE_BORDER: 3 (of 6)\n",
      "[INFO][2022/12/07 09:44:01 PM]  - Fates.TERMINATE_BACK: 60 (of 64)\n",
      "[INFO][2022/12/07 09:44:01 PM]  - Fates.TERMINATE_LAZY: 1 (of 5)\n",
      "[INFO][2022/12/07 09:44:01 PM]  - TOTAL: 231 hypotheses\n",
      "[INFO][2022/12/07 09:44:01 PM] Completed optimization with 73 tracks\n",
      "[INFO][2022/12/07 09:44:01 PM] Ending BayesianTracker session\n"
     ]
    },
    {
     "name": "stdout",
     "output_type": "stream",
     "text": [
      "GLPK Integer Optimizer 5.0\n",
      "300 rows, 231 columns, 313 non-zeros\n",
      "231 integer variables, all of which are binary\n",
      "Preprocessing...\n",
      "150 rows, 231 columns, 313 non-zeros\n",
      "231 integer variables, all of which are binary\n",
      "Scaling...\n",
      " A: min|aij| =  1.000e+00  max|aij| =  1.000e+00  ratio =  1.000e+00\n",
      "Problem data seem to be well scaled\n",
      "Constructing initial basis...\n",
      "Size of triangular part is 150\n",
      "Solving LP relaxation...\n",
      "GLPK Simplex Optimizer 5.0\n",
      "150 rows, 231 columns, 313 non-zeros\n",
      "*     0: obj =   1.120165966e+02 inf =   0.000e+00 (17)\n",
      "*    16: obj =   6.233112201e+01 inf =   0.000e+00 (0)\n",
      "OPTIMAL LP SOLUTION FOUND\n",
      "Integer optimization begins...\n",
      "Long-step dual simplex will be used\n",
      "+    16: mip =     not found yet >=              -inf        (1; 0)\n",
      "+    16: >>>>>   6.233112201e+01 >=   6.233112201e+01   0.0% (1; 0)\n",
      "+    16: mip =   6.233112201e+01 >=     tree is empty   0.0% (0; 1)\n",
      "INTEGER OPTIMAL SOLUTION FOUND\n"
     ]
    }
   ],
   "source": [
    "tracker_obj = BayesianCellTracking(imgs=img_names_sort, segs=seg_names_sort, target_size=target_size)\n",
    "tracker_obj.run_model()\n",
    "#tracker_obj.tracker.tracks"
   ]
  },
  {
   "cell_type": "markdown",
   "id": "72defd93-a4d6-44d4-9940-34deb076540e",
   "metadata": {},
   "source": [
    "### Inspecting the output"
   ]
  },
  {
   "cell_type": "code",
   "execution_count": 5,
   "id": "c427ced7-1eaa-4e21-a360-b632168c655b",
   "metadata": {
    "execution": {
     "iopub.execute_input": "2022-12-07T20:44:01.247502Z",
     "iopub.status.busy": "2022-12-07T20:44:01.246689Z",
     "iopub.status.idle": "2022-12-07T20:44:01.280488Z",
     "shell.execute_reply": "2022-12-07T20:44:01.279238Z",
     "shell.execute_reply.started": "2022-12-07T20:44:01.247439Z"
    },
    "tags": []
   },
   "outputs": [
    {
     "data": {
      "text/html": [
       "<table border=\"1\" class=\"dataframe\">\n",
       "  <thead>\n",
       "    <tr style=\"text-align: right;\">\n",
       "      <th></th>\n",
       "      <th>ID</th>\n",
       "      <th>t</th>\n",
       "      <th>x</th>\n",
       "      <th>y</th>\n",
       "      <th>z</th>\n",
       "      <th>parent</th>\n",
       "      <th>root</th>\n",
       "      <th>state</th>\n",
       "      <th>generation</th>\n",
       "      <th>dummy</th>\n",
       "      <th>minor_axis_length</th>\n",
       "      <th>major_axis_length</th>\n",
       "      <th>area</th>\n",
       "      <th>intensity_max</th>\n",
       "      <th>intensity_min</th>\n",
       "      <th>orientation</th>\n",
       "      <th>coords</th>\n",
       "      <th>intensity_mean</th>\n",
       "    </tr>\n",
       "  </thead>\n",
       "  <tbody>\n",
       "    <tr>\n",
       "      <th>0</th>\n",
       "      <td>73</td>\n",
       "      <td>8</td>\n",
       "      <td>371.608779</td>\n",
       "      <td>105.140099</td>\n",
       "      <td>0.0</td>\n",
       "      <td>13</td>\n",
       "      <td>13</td>\n",
       "      <td>5</td>\n",
       "      <td>1</td>\n",
       "      <td>False</td>\n",
       "      <td>(1,) array</td>\n",
       "      <td>(1,) array</td>\n",
       "      <td>(1,) array</td>\n",
       "      <td>(1,) array</td>\n",
       "      <td>(1,) array</td>\n",
       "      <td>(1,) array</td>\n",
       "      <td>(1, 91, 2) array</td>\n",
       "      <td>(1,) array</td>\n",
       "    </tr>\n",
       "  </tbody>\n",
       "</table>"
      ],
      "text/plain": [
       "OrderedDict([('ID', 73), ('t', [8]), ('x', [371.6087790683022]), ('y', [105.14009891373554]), ('z', [0.0]), ('parent', 13), ('root', 13), ('state', [5]), ('generation', 1), ('dummy', [False]), ('minor_axis_length', array([7.04418733])), ('major_axis_length', array([17.05337316])), ('area', array([91])), ('intensity_max', array([0.37983728])), ('intensity_min', array([0.09870216])), ('orientation', array([1.21767007])), ('coords', array([[[101, 366],\n",
       "        [101, 367],\n",
       "        [101, 368],\n",
       "        [101, 369],\n",
       "        [102, 365],\n",
       "        [102, 366],\n",
       "        [102, 367],\n",
       "        [102, 368],\n",
       "        [102, 369],\n",
       "        [102, 370],\n",
       "        [103, 365],\n",
       "        [103, 366],\n",
       "        [103, 367],\n",
       "        [103, 368],\n",
       "        [103, 369],\n",
       "        [103, 370],\n",
       "        [103, 371],\n",
       "        [103, 372],\n",
       "        [103, 373],\n",
       "        [103, 374],\n",
       "        [104, 366],\n",
       "        [104, 367],\n",
       "        [104, 368],\n",
       "        [104, 369],\n",
       "        [104, 370],\n",
       "        [104, 371],\n",
       "        [104, 372],\n",
       "        [104, 373],\n",
       "        [104, 374],\n",
       "        [104, 375],\n",
       "        [104, 376],\n",
       "        [104, 377],\n",
       "        [105, 367],\n",
       "        [105, 368],\n",
       "        [105, 369],\n",
       "        [105, 370],\n",
       "        [105, 371],\n",
       "        [105, 372],\n",
       "        [105, 373],\n",
       "        [105, 374],\n",
       "        [105, 375],\n",
       "        [105, 376],\n",
       "        [105, 377],\n",
       "        [105, 378],\n",
       "        [105, 379],\n",
       "        [106, 367],\n",
       "        [106, 368],\n",
       "        [106, 369],\n",
       "        [106, 370],\n",
       "        [106, 371],\n",
       "        [106, 372],\n",
       "        [106, 373],\n",
       "        [106, 374],\n",
       "        [106, 375],\n",
       "        [106, 376],\n",
       "        [106, 377],\n",
       "        [106, 378],\n",
       "        [106, 379],\n",
       "        [106, 380],\n",
       "        [107, 368],\n",
       "        [107, 369],\n",
       "        [107, 370],\n",
       "        [107, 371],\n",
       "        [107, 372],\n",
       "        [107, 373],\n",
       "        [107, 374],\n",
       "        [107, 375],\n",
       "        [107, 376],\n",
       "        [107, 377],\n",
       "        [107, 378],\n",
       "        [107, 379],\n",
       "        [107, 380],\n",
       "        [108, 370],\n",
       "        [108, 371],\n",
       "        [108, 372],\n",
       "        [108, 373],\n",
       "        [108, 374],\n",
       "        [108, 375],\n",
       "        [108, 376],\n",
       "        [108, 377],\n",
       "        [108, 378],\n",
       "        [108, 379],\n",
       "        [108, 380],\n",
       "        [109, 371],\n",
       "        [109, 372],\n",
       "        [109, 373],\n",
       "        [109, 374],\n",
       "        [109, 375],\n",
       "        [109, 376],\n",
       "        [109, 377],\n",
       "        [109, 378]]])), ('intensity_mean', array([0.22516948]))])"
      ]
     },
     "execution_count": 5,
     "metadata": {},
     "output_type": "execute_result"
    }
   ],
   "source": [
    "tracker_obj.tracks[-2]"
   ]
  },
  {
   "cell_type": "markdown",
   "id": "766e420f-7fb2-4fd0-b9b2-c96c29330772",
   "metadata": {},
   "source": [
    "### Visualizing the tracking"
   ]
  },
  {
   "cell_type": "code",
   "execution_count": 6,
   "id": "c10552a9-d7e0-4eaf-a02e-aa4b624fbf0c",
   "metadata": {
    "execution": {
     "iopub.execute_input": "2022-12-07T20:44:09.297925Z",
     "iopub.status.busy": "2022-12-07T20:44:09.297545Z",
     "iopub.status.idle": "2022-12-07T20:44:09.475478Z",
     "shell.execute_reply": "2022-12-07T20:44:09.474010Z",
     "shell.execute_reply.started": "2022-12-07T20:44:09.297890Z"
    },
    "tags": []
   },
   "outputs": [],
   "source": [
    "tracker_obj.generate_label_stack()\n",
    "tracker_obj.convert_data()"
   ]
  },
  {
   "cell_type": "code",
   "execution_count": 13,
   "id": "41fe6788-f775-4706-8fa4-c66ec51f0f80",
   "metadata": {
    "execution": {
     "iopub.execute_input": "2022-12-07T20:41:32.302996Z",
     "iopub.status.busy": "2022-12-07T20:41:32.302543Z",
     "iopub.status.idle": "2022-12-07T20:41:32.315894Z",
     "shell.execute_reply": "2022-12-07T20:41:32.312395Z",
     "shell.execute_reply.started": "2022-12-07T20:41:32.302943Z"
    },
    "tags": []
   },
   "outputs": [],
   "source": [
    "# outp_conv = pd.DataFrame({'frame' : time, 'trackID':trackID, \n",
    "#                           'trackID_d1':trackID_d1, \n",
    "#                           'trackID_d2':trackID_d2, \n",
    "#                           'trackID_mother':trackID_mother, \n",
    "#                           'area':area, \n",
    "#                           'x':x_coor, \n",
    "#                           'y':y_coor,\n",
    "#                           # 'intensity_mean':intensity_mean,\n",
    "#                           # 'intensity_min':intensity_min,\n",
    "#                           # 'intensity_max':intensity_max,\n",
    "#                           'first_frame':first_frame, \n",
    "#                           'last_frame':last_frame})\n",
    "# outp_conv"
   ]
  },
  {
   "cell_type": "code",
   "execution_count": 14,
   "id": "c6619b1e-bd7b-456a-ae2a-72a7ba4a125a",
   "metadata": {
    "execution": {
     "iopub.execute_input": "2022-12-07T20:41:32.321375Z",
     "iopub.status.busy": "2022-12-07T20:41:32.319800Z",
     "iopub.status.idle": "2022-12-07T20:41:32.328396Z",
     "shell.execute_reply": "2022-12-07T20:41:32.326569Z",
     "shell.execute_reply.started": "2022-12-07T20:41:32.321307Z"
    },
    "tags": []
   },
   "outputs": [],
   "source": [
    "# df = outp_conv.groupby(['frame', 'trackID']).aggregate({'frame':'first',\n",
    "#                                                         'trackID':'first',\n",
    "#                                                         'trackID_d1':'first',\n",
    "#                                                         'trackID_d2':'last',\n",
    "#                                                         'trackID_mother':'first', \n",
    "#                                                         'area':'first',\n",
    "#                                                         'x':'first',\n",
    "#                                                         'y':'first',\n",
    "#                                                         # 'intensity_mean':'first',\n",
    "#                                                         # 'intensity_min':'first',\n",
    "#                                                         # 'intensity_max':'first',\n",
    "#                                                         'first_frame':'first',\n",
    "#                                                         'last_frame':'first'}).reindex(columns=outp_conv.columns)\n",
    "# df"
   ]
  },
  {
   "cell_type": "code",
   "execution_count": 15,
   "id": "23e2d387-c9da-412f-8a20-05c0f90ced7c",
   "metadata": {
    "execution": {
     "iopub.execute_input": "2022-12-07T20:41:32.330939Z",
     "iopub.status.busy": "2022-12-07T20:41:32.330477Z",
     "iopub.status.idle": "2022-12-07T20:41:32.342223Z",
     "shell.execute_reply": "2022-12-07T20:41:32.340352Z",
     "shell.execute_reply.started": "2022-12-07T20:41:32.330897Z"
    },
    "tags": []
   },
   "outputs": [],
   "source": [
    "# def find_nearest_neighbour(point, seg):\n",
    "#     centroids = [r.centroid for r in regionprops(seg)]\n",
    "#     labels = [r.label for r in regionprops(seg)]\n",
    "#     ix_min = np.argmin([distance.euclidean(c, point) for c in centroids])\n",
    "#     ix_cell = np.where(seg == labels[ix_min])\n",
    "#     return ix_cell"
   ]
  },
  {
   "cell_type": "code",
   "execution_count": 16,
   "id": "bc4b1ecf-c359-415d-9d7d-c0233815bc2d",
   "metadata": {
    "execution": {
     "iopub.execute_input": "2022-12-07T20:41:32.345179Z",
     "iopub.status.busy": "2022-12-07T20:41:32.344725Z",
     "iopub.status.idle": "2022-12-07T20:41:32.355480Z",
     "shell.execute_reply": "2022-12-07T20:41:32.352364Z",
     "shell.execute_reply.started": "2022-12-07T20:41:32.345127Z"
    },
    "tags": []
   },
   "outputs": [],
   "source": [
    "# label_stack = np.zeros(segmentation.shape)\n",
    "# for tr in tracker_obj.tracks:\n",
    "#     for i in range(len(tr['t'])):\n",
    "#         #print(tr)\n",
    "#         point = (int(tr['y'][i]), int(tr['x'][i]))\n",
    "#         label_stack[i][find_nearest_neighbour(point, segmentation[i])] = tr['ID']"
   ]
  },
  {
   "cell_type": "code",
   "execution_count": null,
   "id": "ffd0bf5f-d2b8-406a-b737-b90b52a74ea6",
   "metadata": {
    "tags": []
   },
   "outputs": [],
   "source": []
  },
  {
   "cell_type": "code",
   "execution_count": 17,
   "id": "3d1d3335-05de-4883-aeb8-d160eda0896b",
   "metadata": {
    "execution": {
     "iopub.execute_input": "2022-12-07T20:41:32.359592Z",
     "iopub.status.busy": "2022-12-07T20:41:32.358628Z",
     "iopub.status.idle": "2022-12-07T20:41:32.368239Z",
     "shell.execute_reply": "2022-12-07T20:41:32.366877Z",
     "shell.execute_reply.started": "2022-12-07T20:41:32.359484Z"
    },
    "tags": []
   },
   "outputs": [],
   "source": [
    "label_stack = tracker_obj.label_stack"
   ]
  },
  {
   "cell_type": "code",
   "execution_count": 18,
   "id": "f3ab1f89-1c92-427d-bb9a-3269d106cc18",
   "metadata": {
    "execution": {
     "iopub.execute_input": "2022-12-07T20:41:32.371345Z",
     "iopub.status.busy": "2022-12-07T20:41:32.370843Z",
     "iopub.status.idle": "2022-12-07T20:41:32.401937Z",
     "shell.execute_reply": "2022-12-07T20:41:32.400192Z",
     "shell.execute_reply.started": "2022-12-07T20:41:32.371305Z"
    },
    "tags": []
   },
   "outputs": [
    {
     "data": {
      "text/plain": [
       "array([ 0.,  1.,  3.,  4.,  5.,  6.,  7.,  8.,  9., 10., 11., 14., 15.,\n",
       "       16., 17., 18., 20., 21., 22., 23., 24., 25., 26., 27., 29., 30.,\n",
       "       31., 32., 33., 34., 35., 36., 37., 38., 39., 40., 41., 42., 44.,\n",
       "       45., 46., 47., 49., 50., 52., 53., 54., 57., 59., 60., 61., 64.,\n",
       "       65., 66., 67., 68., 69., 70., 72., 73., 74.])"
      ]
     },
     "execution_count": 18,
     "metadata": {},
     "output_type": "execute_result"
    }
   ],
   "source": [
    "np.unique(label_stack[-1])"
   ]
  },
  {
   "cell_type": "code",
   "execution_count": 25,
   "id": "2afe6ed5-a7e3-445c-8119-b2661ec92691",
   "metadata": {
    "execution": {
     "iopub.execute_input": "2022-12-07T20:42:17.614185Z",
     "iopub.status.busy": "2022-12-07T20:42:17.613780Z",
     "iopub.status.idle": "2022-12-07T20:42:18.638357Z",
     "shell.execute_reply": "2022-12-07T20:42:18.637219Z",
     "shell.execute_reply.started": "2022-12-07T20:42:17.614143Z"
    },
    "tags": []
   },
   "outputs": [
    {
     "data": {
      "image/png": "[encoded data removed]",
      "text/plain": [
       "<Figure size 1500x1000 with 3 Axes>"
      ]
     },
     "metadata": {},
     "output_type": "display_data"
    }
   ],
   "source": [
    "plt.figure(figsize=(15,10))\n",
    "ax = plt.subplot(1,3,1)\n",
    "img = label_stack[3][:300,300:]\n",
    "plt.imshow(img)\n",
    "plt.title('Lineage')\n",
    "reg = regionprops(img.astype(int))\n",
    "center = [r.centroid for r in reg]\n",
    "labels = [r.label for r in reg]\n",
    "for c, l in zip(center, labels):\n",
    "    x, y = c\n",
    "    x=int(np.ceil(x))\n",
    "    y=int(np.ceil(y))\n",
    "    ax.text(y-5,x-5, str(l), color='w', weight='bold')\n",
    "\n",
    "ax = plt.subplot(1,3,2)\n",
    "img = label_stack[4][:300,300:]\n",
    "plt.imshow(img)\n",
    "plt.title('Lineage')\n",
    "reg = regionprops(img.astype(int))\n",
    "center = [r.centroid for r in reg]\n",
    "labels = [r.label for r in reg]\n",
    "for c, l in zip(center, labels):\n",
    "    x, y = c\n",
    "    x=int(np.ceil(x))\n",
    "    y=int(np.ceil(y))\n",
    "    ax.text(y-5,x-5, str(l), color='w', weight='bold')\n",
    "\n",
    "ax = plt.subplot(1,3,3)\n",
    "img = label_stack[5][:300,300:]\n",
    "plt.imshow(img)\n",
    "plt.title('Lineage')\n",
    "reg = regionprops(img.astype(int))\n",
    "center = [r.centroid for r in reg]\n",
    "labels = [r.label for r in reg]\n",
    "for c, l in zip(center, labels):\n",
    "    x, y = c\n",
    "    x=int(np.ceil(x))\n",
    "    y=int(np.ceil(y))\n",
    "    ax.text(y-5,x-5, str(l), color='w', weight='bold')"
   ]
  },
  {
   "cell_type": "code",
   "execution_count": 20,
   "id": "861705b1-1ff8-4133-8845-d5b61e645dc9",
   "metadata": {
    "execution": {
     "iopub.execute_input": "2022-12-07T20:41:33.532232Z",
     "iopub.status.busy": "2022-12-07T20:41:33.531749Z",
     "iopub.status.idle": "2022-12-07T20:41:33.815892Z",
     "shell.execute_reply": "2022-12-07T20:41:33.814652Z",
     "shell.execute_reply.started": "2022-12-07T20:41:33.532193Z"
    },
    "tags": []
   },
   "outputs": [
    {
     "name": "stdout",
     "output_type": "stream",
     "text": [
      "(8, 2)\n",
      "(115, 2)\n",
      "(178, 2)\n",
      "(107, 2)\n",
      "(78, 2)\n",
      "(122, 2)\n",
      "(82, 2)\n",
      "(98, 2)\n",
      "(83, 2)\n",
      "(119, 2)\n",
      "(148, 2)\n",
      "(109, 2)\n",
      "(115, 2)\n",
      "(94, 2)\n",
      "(75, 2)\n"
     ]
    },
    {
     "data": {
      "image/png": "[encoded data removed]",
      "text/plain": [
       "<Figure size 640x480 with 1 Axes>"
      ]
     },
     "metadata": {},
     "output_type": "display_data"
    }
   ],
   "source": [
    "from skimage.measure import label, regionprops\n",
    "plt.imshow(tracker_obj.seg_imgs[3][:300,300:])\n",
    "\n",
    "reg = regionprops(label(tracker_obj.seg_imgs[3][:300,300:]))\n",
    "\n",
    "recreat = np.zeros(tracker_obj.seg_imgs[3][:300,300:].shape)\n",
    "\n",
    "for r in reg:\n",
    "    recreat[r.coords[:,0],r.coords[:,1]] = 1\n",
    "    print(r.coords.shape)"
   ]
  },
  {
   "cell_type": "code",
   "execution_count": 21,
   "id": "8f323f68-5d3f-44a3-8556-5122b4021a50",
   "metadata": {
    "execution": {
     "iopub.execute_input": "2022-12-07T20:41:33.817960Z",
     "iopub.status.busy": "2022-12-07T20:41:33.817292Z",
     "iopub.status.idle": "2022-12-07T20:41:34.089119Z",
     "shell.execute_reply": "2022-12-07T20:41:34.087952Z",
     "shell.execute_reply.started": "2022-12-07T20:41:33.817917Z"
    }
   },
   "outputs": [
    {
     "data": {
      "text/plain": [
       "<matplotlib.image.AxesImage at 0x7f96116df8e0>"
      ]
     },
     "execution_count": 21,
     "metadata": {},
     "output_type": "execute_result"
    },
    {
     "data": {
      "image/png": "[encoded data removed]",
      "text/plain": [
       "<Figure size 640x480 with 1 Axes>"
      ]
     },
     "metadata": {},
     "output_type": "display_data"
    }
   ],
   "source": [
    "plt.imshow(recreat)"
   ]
  },
  {
   "cell_type": "code",
   "execution_count": 22,
   "id": "adc33071-65aa-4160-b388-bdff6765766f",
   "metadata": {
    "execution": {
     "iopub.execute_input": "2022-12-07T20:41:34.090926Z",
     "iopub.status.busy": "2022-12-07T20:41:34.090482Z",
     "iopub.status.idle": "2022-12-07T20:41:34.425881Z",
     "shell.execute_reply": "2022-12-07T20:41:34.424510Z",
     "shell.execute_reply.started": "2022-12-07T20:41:34.090890Z"
    },
    "tags": []
   },
   "outputs": [
    {
     "data": {
      "text/plain": [
       "<matplotlib.image.AxesImage at 0x7f961187cac0>"
      ]
     },
     "execution_count": 22,
     "metadata": {},
     "output_type": "execute_result"
    },
    {
     "data": {
      "image/png": "[encoded data removed]",
      "text/plain": [
       "<Figure size 640x480 with 1 Axes>"
      ]
     },
     "metadata": {},
     "output_type": "display_data"
    }
   ],
   "source": [
    "plt.imshow((label_stack[-1] > 0).astype(int) - tracker_obj.seg_imgs[-1])"
   ]
  },
  {
   "cell_type": "code",
   "execution_count": 23,
   "id": "dd938575-d79a-41a2-b0b1-8f935a4e142c",
   "metadata": {
    "execution": {
     "iopub.execute_input": "2022-12-07T20:41:34.428485Z",
     "iopub.status.busy": "2022-12-07T20:41:34.427946Z",
     "iopub.status.idle": "2022-12-07T20:41:34.923268Z",
     "shell.execute_reply": "2022-12-07T20:41:34.921594Z",
     "shell.execute_reply.started": "2022-12-07T20:41:34.428443Z"
    },
    "tags": []
   },
   "outputs": [
    {
     "ename": "ModuleNotFoundError",
     "evalue": "No module named 'btrack.render'",
     "output_type": "error",
     "traceback": [
      "\u001b[0;31m---------------------------------------------------------------------------\u001b[0m",
      "\u001b[0;31mModuleNotFoundError\u001b[0m                       Traceback (most recent call last)",
      "\u001b[0;32m/var/folders/k9/l81gk8cd3_q20rpm7pq7pwbm0000gn/T/ipykernel_74054/2338184218.py\u001b[0m in \u001b[0;36m<module>\u001b[0;34m\u001b[0m\n\u001b[1;32m      2\u001b[0m \u001b[0;34m\u001b[0m\u001b[0m\n\u001b[1;32m      3\u001b[0m \u001b[0;32mfrom\u001b[0m \u001b[0mbtrack\u001b[0m\u001b[0;34m.\u001b[0m\u001b[0mconstants\u001b[0m \u001b[0;32mimport\u001b[0m \u001b[0mBayesianUpdates\u001b[0m\u001b[0;34m\u001b[0m\u001b[0;34m\u001b[0m\u001b[0m\n\u001b[0;32m----> 4\u001b[0;31m \u001b[0;32mfrom\u001b[0m \u001b[0mbtrack\u001b[0m\u001b[0;34m.\u001b[0m\u001b[0mrender\u001b[0m \u001b[0;32mimport\u001b[0m \u001b[0mplot_tracks\u001b[0m\u001b[0;34m\u001b[0m\u001b[0;34m\u001b[0m\u001b[0m\n\u001b[0m\u001b[1;32m      5\u001b[0m \u001b[0;34m\u001b[0m\u001b[0m\n\u001b[1;32m      6\u001b[0m \u001b[0mplot_tracks\u001b[0m\u001b[0;34m(\u001b[0m\u001b[0mtracker_obj\u001b[0m\u001b[0;34m.\u001b[0m\u001b[0mtracker\u001b[0m\u001b[0;34m.\u001b[0m\u001b[0mtracks\u001b[0m\u001b[0;34m,\u001b[0m \u001b[0morder\u001b[0m\u001b[0;34m=\u001b[0m\u001b[0;34m'xyt'\u001b[0m\u001b[0;34m,\u001b[0m \u001b[0mbox\u001b[0m\u001b[0;34m=\u001b[0m\u001b[0mbox\u001b[0m\u001b[0;34m)\u001b[0m\u001b[0;34m\u001b[0m\u001b[0;34m\u001b[0m\u001b[0m\n",
      "\u001b[0;31mModuleNotFoundError\u001b[0m: No module named 'btrack.render'"
     ]
    }
   ],
   "source": [
    "import btrack\n",
    "\n",
    "from btrack.constants import BayesianUpdates\n",
    "from btrack.render import plot_tracks\n",
    "\n",
    "plot_tracks(tracker_obj.tracker.tracks, order='xyt', box=box)"
   ]
  },
  {
   "cell_type": "code",
   "execution_count": null,
   "id": "bc6152e6-e559-42b7-9e2e-db8a948a2f87",
   "metadata": {
    "execution": {
     "iopub.status.busy": "2022-12-07T20:41:34.924666Z",
     "iopub.status.idle": "2022-12-07T20:41:34.925297Z",
     "shell.execute_reply": "2022-12-07T20:41:34.925005Z",
     "shell.execute_reply.started": "2022-12-07T20:41:34.924971Z"
    }
   },
   "outputs": [],
   "source": [
    "print(btrack.__version__)"
   ]
  },
  {
   "cell_type": "code",
   "execution_count": null,
   "id": "132cae66-9924-4fb4-808d-7447e172cc6b",
   "metadata": {
    "execution": {
     "iopub.status.busy": "2022-12-07T20:41:34.926828Z",
     "iopub.status.idle": "2022-12-07T20:41:34.927503Z",
     "shell.execute_reply": "2022-12-07T20:41:34.927262Z",
     "shell.execute_reply.started": "2022-12-07T20:41:34.927234Z"
    },
    "tags": []
   },
   "outputs": [],
   "source": [
    "reg[0].coords"
   ]
  },
  {
   "cell_type": "code",
   "execution_count": null,
   "id": "379a9667-5488-4881-abd8-8e6d989f12cb",
   "metadata": {},
   "outputs": [],
   "source": []
  }
 ],
 "metadata": {
  "kernelspec": {
   "display_name": "midap_env",
   "language": "python",
   "name": "midap_env"
  },
  "language_info": {
   "codemirror_mode": {
    "name": "ipython",
    "version": 3
   },
   "file_extension": ".py",
   "mimetype": "text/x-python",
   "name": "python",
   "nbconvert_exporter": "python",
   "pygments_lexer": "ipython3",
   "version": "3.8.5"
  }
 },
 "nbformat": 4,
 "nbformat_minor": 5
}
