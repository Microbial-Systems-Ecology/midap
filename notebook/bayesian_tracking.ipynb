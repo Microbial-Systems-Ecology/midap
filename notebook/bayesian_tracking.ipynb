{
 "cells": [
  {
   "cell_type": "markdown",
   "id": "d56d5b54-88a8-429b-8859-f0b27fb1bb26",
   "metadata": {
    "execution": {
     "iopub.execute_input": "2022-11-24T09:05:50.543735Z",
     "iopub.status.busy": "2022-11-24T09:05:50.543460Z",
     "iopub.status.idle": "2022-11-24T09:05:50.548428Z",
     "shell.execute_reply": "2022-11-24T09:05:50.547134Z",
     "shell.execute_reply.started": "2022-11-24T09:05:50.543710Z"
    },
    "tags": []
   },
   "source": [
    "This notebook tests the python btrack module."
   ]
  },
  {
   "cell_type": "code",
   "execution_count": 1,
   "id": "eeef40b0-92f9-44a1-8f46-f25a597fa3ff",
   "metadata": {
    "execution": {
     "iopub.execute_input": "2022-12-15T09:50:54.736475Z",
     "iopub.status.busy": "2022-12-15T09:50:54.736116Z",
     "iopub.status.idle": "2022-12-15T09:50:56.923705Z",
     "shell.execute_reply": "2022-12-15T09:50:56.923028Z",
     "shell.execute_reply.started": "2022-12-15T09:50:54.736416Z"
    },
    "tags": []
   },
   "outputs": [],
   "source": [
    "from midap.tracking.bayesian_tracking import BayesianCellTracking\n",
    "\n",
    "import glob\n",
    "import numpy as np\n",
    "import matplotlib.pyplot as plt\n",
    "from skimage import io\n",
    "from skimage.measure import regionprops\n",
    "from scipy.spatial import distance\n",
    "import pandas as pd\n",
    "import os"
   ]
  },
  {
   "cell_type": "markdown",
   "id": "8d767077-5695-49ea-921b-ab2b217b59d9",
   "metadata": {},
   "source": [
    "### Load segmentations"
   ]
  },
  {
   "cell_type": "code",
   "execution_count": 2,
   "id": "454c6795-fc0d-42a6-b6ca-35b1abb504d7",
   "metadata": {
    "execution": {
     "iopub.execute_input": "2022-12-15T09:50:56.925089Z",
     "iopub.status.busy": "2022-12-15T09:50:56.924768Z",
     "iopub.status.idle": "2022-12-15T09:50:56.930606Z",
     "shell.execute_reply": "2022-12-15T09:50:56.930103Z",
     "shell.execute_reply.started": "2022-12-15T09:50:56.925070Z"
    },
    "tags": []
   },
   "outputs": [],
   "source": [
    "# Load data\n",
    "path = '../example_data/Pos58/TXRED'\n",
    "images_folder = os.path.join(path, 'cut_im')\n",
    "segmentation_folder = os.path.join(path, 'seg_im')\n",
    "\n",
    "# glob all the cut images and segmented images\n",
    "img_names_sort = np.sort(glob.glob(os.path.join(images_folder, '*frame*.png')))\n",
    "seg_names_sort = np.sort(glob.glob(os.path.join(segmentation_folder, '*frame*.png')))\n",
    "\n",
    "# Parameters:\n",
    "crop_size = (128, 128)\n",
    "target_size = (512, 512)\n",
    "input_size = crop_size + (4,)\n",
    "num_time_steps = len(img_names_sort)"
   ]
  },
  {
   "cell_type": "markdown",
   "id": "ef9d3b5f-1eb2-472f-9aea-2c45d7e4aa18",
   "metadata": {},
   "source": [
    "### Run the tracking"
   ]
  },
  {
   "cell_type": "code",
   "execution_count": 3,
   "id": "199c248a-ce81-4088-b3de-3e959e3fd34b",
   "metadata": {
    "execution": {
     "iopub.execute_input": "2022-12-15T09:50:56.932982Z",
     "iopub.status.busy": "2022-12-15T09:50:56.932750Z",
     "iopub.status.idle": "2022-12-15T09:50:58.675854Z",
     "shell.execute_reply": "2022-12-15T09:50:58.675250Z",
     "shell.execute_reply.started": "2022-12-15T09:50:56.932962Z"
    },
    "tags": []
   },
   "outputs": [
    {
     "name": "stderr",
     "output_type": "stream",
     "text": [
      "[INFO][2022/12/15 10:50:58 AM] Localizing objects from segmentation...\n",
      "[INFO][2022/12/15 10:50:58 AM] Found intensity_image data\n",
      "[INFO][2022/12/15 10:50:58 AM] Calculating weighted centroids using intensity_image\n",
      "[INFO][2022/12/15 10:50:58 AM] Objects are of type: <class 'dict'>\n",
      "[INFO][2022/12/15 10:50:58 AM] ...Found 613 objects in 9 frames.\n",
      "[INFO][2022/12/15 10:50:58 AM] Loaded btrack: /Users/franziskaoschmann/miniconda3/envs/midap/lib/python3.8/site-packages/btrack/libs/libtracker.dylib\n",
      "[INFO][2022/12/15 10:50:58 AM] btrack (v0.4.6) library imported\n",
      "[INFO][2022/12/15 10:50:58 AM] Starting BayesianTracker session\n",
      "[INFO][2022/12/15 10:50:58 AM] Setting update_method -> BayesianUpdates.EXACT\n",
      "[INFO][2022/12/15 10:50:58 AM] Loading configuration file: /Users/franziskaoschmann/Library/Caches/btrack-examples/examples/cell_config.json\n",
      "[INFO][2022/12/15 10:50:58 AM] Objects are of type: <class 'list'>\n",
      "[INFO][2022/12/15 10:50:58 AM] Starting tracking... \n",
      "[INFO][2022/12/15 10:50:58 AM] Tracking objects in frames 0 to 9 (of 9)...\n",
      "[INFO][2022/12/15 10:50:58 AM]  - Timing (Bayesian updates: 1.66ms, Linking: 0.55ms)\n",
      "[INFO][2022/12/15 10:50:58 AM]  - Probabilities (Link: 1.00000, Lost: 0.19272)\n",
      "[INFO][2022/12/15 10:50:58 AM] SUCCESS.\n",
      "[INFO][2022/12/15 10:50:58 AM]  - Found 94 tracks in 9 frames (in 0.0s)\n",
      "[INFO][2022/12/15 10:50:58 AM]  - Inserted 6 dummy objects to fill tracking gaps\n",
      "[INFO][2022/12/15 10:50:58 AM] Loading hypothesis model: cell_hypothesis\n",
      "[INFO][2022/12/15 10:50:58 AM] Calculating hypotheses (relax: True)...\n",
      "[INFO][2022/12/15 10:50:58 AM] Setting up constraints matrix for global optimisation...\n",
      "[INFO][2022/12/15 10:50:58 AM] Using GLPK options: {'tm_lim': 60000}...\n",
      "[INFO][2022/12/15 10:50:58 AM] Optimizing...\n",
      "[INFO][2022/12/15 10:50:58 AM] Optimization complete. (Solution: optimal)\n",
      "[INFO][2022/12/15 10:50:58 AM]  - Fates.FALSE_POSITIVE: 12 (of 94)\n",
      "[INFO][2022/12/15 10:50:58 AM]  - Fates.LINK: 0 (of 7)\n",
      "[INFO][2022/12/15 10:50:58 AM]  - Fates.DIVIDE: 2 (of 2)\n",
      "[INFO][2022/12/15 10:50:58 AM]  - Fates.INITIALIZE_BORDER: 12 (of 14)\n",
      "[INFO][2022/12/15 10:50:58 AM]  - Fates.INITIALIZE_FRONT: 63 (of 72)\n",
      "[INFO][2022/12/15 10:50:58 AM]  - Fates.INITIALIZE_LAZY: 3 (of 8)\n",
      "[INFO][2022/12/15 10:50:58 AM]  - Fates.TERMINATE_BORDER: 6 (of 8)\n",
      "[INFO][2022/12/15 10:50:58 AM]  - Fates.TERMINATE_BACK: 72 (of 79)\n",
      "[INFO][2022/12/15 10:50:58 AM]  - Fates.TERMINATE_LAZY: 2 (of 7)\n",
      "[INFO][2022/12/15 10:50:58 AM]  - TOTAL: 291 hypotheses\n",
      "[INFO][2022/12/15 10:50:58 AM] Completed optimization with 94 tracks\n",
      "[INFO][2022/12/15 10:50:58 AM] Ending BayesianTracker session\n"
     ]
    },
    {
     "name": "stdout",
     "output_type": "stream",
     "text": [
      "GLPK Integer Optimizer 5.0\n",
      "376 rows, 291 columns, 396 non-zeros\n",
      "291 integer variables, all of which are binary\n",
      "Preprocessing...\n",
      "188 rows, 291 columns, 396 non-zeros\n",
      "291 integer variables, all of which are binary\n",
      "Scaling...\n",
      " A: min|aij| =  1.000e+00  max|aij| =  1.000e+00  ratio =  1.000e+00\n",
      "Problem data seem to be well scaled\n",
      "Constructing initial basis...\n",
      "Size of triangular part is 188\n",
      "Solving LP relaxation...\n",
      "GLPK Simplex Optimizer 5.0\n",
      "188 rows, 291 columns, 396 non-zeros\n",
      "*     0: obj =   1.383541904e+02 inf =   0.000e+00 (17)\n",
      "*    16: obj =   8.563680382e+01 inf =   0.000e+00 (0)\n",
      "OPTIMAL LP SOLUTION FOUND\n",
      "Integer optimization begins...\n",
      "Long-step dual simplex will be used\n",
      "+    16: mip =     not found yet >=              -inf        (1; 0)\n",
      "+    16: >>>>>   8.563680382e+01 >=   8.563680382e+01   0.0% (1; 0)\n",
      "+    16: mip =   8.563680382e+01 >=     tree is empty   0.0% (0; 1)\n",
      "INTEGER OPTIMAL SOLUTION FOUND\n"
     ]
    }
   ],
   "source": [
    "tracker_obj = BayesianCellTracking(imgs=img_names_sort, segs=seg_names_sort, target_size=target_size)\n",
    "tracker_obj.run_model()"
   ]
  },
  {
   "cell_type": "markdown",
   "id": "766e420f-7fb2-4fd0-b9b2-c96c29330772",
   "metadata": {},
   "source": [
    "### Visualizing the tracking"
   ]
  },
  {
   "cell_type": "code",
   "execution_count": 12,
   "id": "c10552a9-d7e0-4eaf-a02e-aa4b624fbf0c",
   "metadata": {
    "execution": {
     "iopub.execute_input": "2022-12-15T09:51:06.671176Z",
     "iopub.status.busy": "2022-12-15T09:51:06.670797Z",
     "iopub.status.idle": "2022-12-15T09:51:07.335552Z",
     "shell.execute_reply": "2022-12-15T09:51:07.335029Z",
     "shell.execute_reply.started": "2022-12-15T09:51:06.671146Z"
    },
    "tags": []
   },
   "outputs": [],
   "source": [
    "tracker_obj.convert_data()\n",
    "tracker_obj.generate_label_stack()\n",
    "tracker_obj.correct_label_stack()\n",
    "label_stack = tracker_obj.label_stack\n",
    "label_stack_correct = tracker_obj.label_stack_correct"
   ]
  },
  {
   "cell_type": "code",
   "execution_count": 14,
   "id": "2afe6ed5-a7e3-445c-8119-b2661ec92691",
   "metadata": {
    "execution": {
     "iopub.execute_input": "2022-12-15T09:51:09.327233Z",
     "iopub.status.busy": "2022-12-15T09:51:09.326992Z",
     "iopub.status.idle": "2022-12-15T09:51:09.793513Z",
     "shell.execute_reply": "2022-12-15T09:51:09.792738Z",
     "shell.execute_reply.started": "2022-12-15T09:51:09.327208Z"
    },
    "tags": []
   },
   "outputs": [
    {
     "data": {
      "image/png": "[encoded data removed]",
      "text/plain": [
       "<Figure size 1500x1000 with 3 Axes>"
      ]
     },
     "metadata": {},
     "output_type": "display_data"
    }
   ],
   "source": [
    "plt.figure(figsize=(15,10))\n",
    "ax = plt.subplot(1,3,1)\n",
    "img = label_stack[1][:200,200:400]\n",
    "plt.imshow(img)\n",
    "plt.title('Timeframe ' + str(1))\n",
    "reg = regionprops(img.astype(int))\n",
    "center = [r.centroid for r in reg]\n",
    "labels = [r.label for r in reg]\n",
    "for c, l in zip(center, labels):\n",
    "    x, y = c\n",
    "    x=int(np.ceil(x))\n",
    "    y=int(np.ceil(y))\n",
    "    ax.text(y-5,x-5, str(l), color='w', weight='bold')\n",
    "\n",
    "ax = plt.subplot(1,3,2)\n",
    "img = label_stack[2][:200,200:400]\n",
    "plt.imshow(img)\n",
    "plt.title('Timeframe ' + str(2))\n",
    "reg = regionprops(img.astype(int))\n",
    "center = [r.centroid for r in reg]\n",
    "labels = [r.label for r in reg]\n",
    "for c, l in zip(center, labels):\n",
    "    x, y = c\n",
    "    x=int(np.ceil(x))\n",
    "    y=int(np.ceil(y))\n",
    "    ax.text(y-5,x-5, str(l), color='w', weight='bold')\n",
    "\n",
    "ax = plt.subplot(1,3,3)\n",
    "img = label_stack[3][:200,200:400]\n",
    "plt.imshow(img)\n",
    "plt.title('Timeframe ' + str(3))\n",
    "reg = regionprops(img.astype(int))\n",
    "center = [r.centroid for r in reg]\n",
    "labels = [r.label for r in reg]\n",
    "for c, l in zip(center, labels):\n",
    "    x, y = c\n",
    "    x=int(np.ceil(x))\n",
    "    y=int(np.ceil(y))\n",
    "    ax.text(y-5,x-5, str(l), color='w', weight='bold')"
   ]
  },
  {
   "cell_type": "code",
   "execution_count": 17,
   "id": "75da3436-1d9c-44eb-aee1-11ee2e795ad2",
   "metadata": {
    "execution": {
     "iopub.execute_input": "2022-12-15T09:51:28.524813Z",
     "iopub.status.busy": "2022-12-15T09:51:28.524563Z",
     "iopub.status.idle": "2022-12-15T09:51:28.531126Z",
     "shell.execute_reply": "2022-12-15T09:51:28.530274Z",
     "shell.execute_reply.started": "2022-12-15T09:51:28.524790Z"
    },
    "tags": []
   },
   "outputs": [
    {
     "data": {
      "text/plain": [
       "(array([116]),)"
      ]
     },
     "execution_count": 17,
     "metadata": {},
     "output_type": "execute_result"
    }
   ],
   "source": [
    "filter1 = tracker_obj.track_output_correct['frame'] == 1\n",
    "filter2 = tracker_obj.track_output_correct['trackID'] == 10\n",
    "np.where(filter1&filter2)"
   ]
  },
  {
   "cell_type": "code",
   "execution_count": 18,
   "id": "ebc63677-6e50-438d-8e91-33e9ac3abe11",
   "metadata": {
    "execution": {
     "iopub.execute_input": "2022-12-15T09:51:29.118702Z",
     "iopub.status.busy": "2022-12-15T09:51:29.118462Z",
     "iopub.status.idle": "2022-12-15T09:51:29.130175Z",
     "shell.execute_reply": "2022-12-15T09:51:29.129590Z",
     "shell.execute_reply.started": "2022-12-15T09:51:29.118679Z"
    },
    "tags": []
   },
   "outputs": [
    {
     "data": {
      "text/html": [
       "<div>\n",
       "<style scoped>\n",
       "    .dataframe tbody tr th:only-of-type {\n",
       "        vertical-align: middle;\n",
       "    }\n",
       "\n",
       "    .dataframe tbody tr th {\n",
       "        vertical-align: top;\n",
       "    }\n",
       "\n",
       "    .dataframe thead th {\n",
       "        text-align: right;\n",
       "    }\n",
       "</style>\n",
       "<table border=\"1\" class=\"dataframe\">\n",
       "  <thead>\n",
       "    <tr style=\"text-align: right;\">\n",
       "      <th></th>\n",
       "      <th>frame</th>\n",
       "      <th>trackID</th>\n",
       "      <th>x</th>\n",
       "      <th>y</th>\n",
       "      <th>area</th>\n",
       "      <th>intensity_mean</th>\n",
       "      <th>intensity_min</th>\n",
       "      <th>intensity_max</th>\n",
       "      <th>minor_axis_length</th>\n",
       "      <th>major_axis_length</th>\n",
       "      <th>trackID_d1</th>\n",
       "      <th>trackID_d2</th>\n",
       "      <th>trackID_mother</th>\n",
       "    </tr>\n",
       "  </thead>\n",
       "  <tbody>\n",
       "    <tr>\n",
       "      <th>1</th>\n",
       "      <td>1</td>\n",
       "      <td>10</td>\n",
       "      <td>341.213134</td>\n",
       "      <td>83.890422</td>\n",
       "      <td>135.0</td>\n",
       "      <td>0.248164</td>\n",
       "      <td>0.132727</td>\n",
       "      <td>0.362325</td>\n",
       "      <td>6.834143</td>\n",
       "      <td>29.645529</td>\n",
       "      <td>72</td>\n",
       "      <td>101</td>\n",
       "      <td>10</td>\n",
       "    </tr>\n",
       "  </tbody>\n",
       "</table>\n",
       "</div>"
      ],
      "text/plain": [
       "   frame  trackID           x          y   area  intensity_mean  \\\n",
       "1      1       10  341.213134  83.890422  135.0        0.248164   \n",
       "\n",
       "   intensity_min  intensity_max  minor_axis_length  major_axis_length  \\\n",
       "1       0.132727       0.362325           6.834143          29.645529   \n",
       "\n",
       "   trackID_d1  trackID_d2  trackID_mother  \n",
       "1          72         101              10  "
      ]
     },
     "execution_count": 18,
     "metadata": {},
     "output_type": "execute_result"
    }
   ],
   "source": [
    "tracker_obj.track_output_correct.loc[filter1&filter2]"
   ]
  },
  {
   "cell_type": "code",
   "execution_count": null,
   "id": "379a9667-5488-4881-abd8-8e6d989f12cb",
   "metadata": {},
   "outputs": [],
   "source": []
  }
 ],
 "metadata": {
  "kernelspec": {
   "display_name": "midap_env",
   "language": "python",
   "name": "midap_env"
  },
  "language_info": {
   "codemirror_mode": {
    "name": "ipython",
    "version": 3
   },
   "file_extension": ".py",
   "mimetype": "text/x-python",
   "name": "python",
   "nbconvert_exporter": "python",
   "pygments_lexer": "ipython3",
   "version": "3.8.5"
  }
 },
 "nbformat": 4,
 "nbformat_minor": 5
}
